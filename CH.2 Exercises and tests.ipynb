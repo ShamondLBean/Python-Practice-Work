{
 "cells": [
  {
   "cell_type": "code",
   "execution_count": 1,
   "id": "bc31c828",
   "metadata": {},
   "outputs": [],
   "source": [
    "width = 20"
   ]
  },
  {
   "cell_type": "code",
   "execution_count": 2,
   "id": "1de3a70b",
   "metadata": {},
   "outputs": [],
   "source": [
    "length = 30"
   ]
  },
  {
   "cell_type": "code",
   "execution_count": 3,
   "id": "11108585",
   "metadata": {},
   "outputs": [
    {
     "name": "stdout",
     "output_type": "stream",
     "text": [
      "20\n"
     ]
    }
   ],
   "source": [
    "print(width)"
   ]
  },
  {
   "cell_type": "code",
   "execution_count": 4,
   "id": "95812be9",
   "metadata": {},
   "outputs": [
    {
     "name": "stdout",
     "output_type": "stream",
     "text": [
      "30\n"
     ]
    }
   ],
   "source": [
    "print(length)"
   ]
  },
  {
   "cell_type": "code",
   "execution_count": 5,
   "id": "415840ed",
   "metadata": {},
   "outputs": [],
   "source": [
    "age = 67"
   ]
  },
  {
   "cell_type": "code",
   "execution_count": 6,
   "id": "23d7b89c",
   "metadata": {},
   "outputs": [
    {
     "name": "stdout",
     "output_type": "stream",
     "text": [
      "67\n"
     ]
    }
   ],
   "source": [
    "print(age)"
   ]
  },
  {
   "cell_type": "code",
   "execution_count": 7,
   "id": "8f024745",
   "metadata": {},
   "outputs": [],
   "source": [
    "#This is the apartment number"
   ]
  },
  {
   "cell_type": "code",
   "execution_count": 8,
   "id": "2384726c",
   "metadata": {},
   "outputs": [],
   "source": [
    "apartment = 301"
   ]
  },
  {
   "cell_type": "code",
   "execution_count": 9,
   "id": "8e55d361",
   "metadata": {},
   "outputs": [
    {
     "name": "stdout",
     "output_type": "stream",
     "text": [
      "I'm staying in apartment number\n"
     ]
    }
   ],
   "source": [
    "print(\"I'm staying in apartment number\")"
   ]
  },
  {
   "cell_type": "code",
   "execution_count": 10,
   "id": "f433f2cb",
   "metadata": {},
   "outputs": [
    {
     "name": "stdout",
     "output_type": "stream",
     "text": [
      "301\n"
     ]
    }
   ],
   "source": [
    "print(apartment)"
   ]
  },
  {
   "cell_type": "code",
   "execution_count": 11,
   "id": "d8b8a5d9",
   "metadata": {},
   "outputs": [],
   "source": [
    "## Chapter 2 Programming exercise 1."
   ]
  },
  {
   "cell_type": "code",
   "execution_count": 12,
   "id": "cc8681e1",
   "metadata": {},
   "outputs": [],
   "source": [
    "#Display the name for the student.\n",
    "#I will use a input function to get this info from student."
   ]
  },
  {
   "cell_type": "code",
   "execution_count": 2,
   "id": "96b27b1d",
   "metadata": {},
   "outputs": [
    {
     "name": "stdout",
     "output_type": "stream",
     "text": [
      "What is your name?: John Johnston.\n"
     ]
    }
   ],
   "source": [
    "name = input('What is your name?: ')"
   ]
  },
  {
   "cell_type": "code",
   "execution_count": null,
   "id": "dcfae1c1",
   "metadata": {},
   "outputs": [],
   "source": [
    "#Next display the students address.\n",
    "#I will use the input function to get this info."
   ]
  },
  {
   "cell_type": "code",
   "execution_count": 4,
   "id": "7d55a5c6",
   "metadata": {},
   "outputs": [
    {
     "name": "stdout",
     "output_type": "stream",
     "text": [
      "What is your address, city, state, and zip code?: 3901 State St, Albany, MD, 71029\n"
     ]
    }
   ],
   "source": [
    "address = input('What is your address, city, state, and zip code?: ')"
   ]
  },
  {
   "cell_type": "code",
   "execution_count": null,
   "id": "a57ca6e2",
   "metadata": {},
   "outputs": [],
   "source": [
    "#Next display the students telephone number"
   ]
  },
  {
   "cell_type": "code",
   "execution_count": 3,
   "id": "6cad3db6",
   "metadata": {},
   "outputs": [
    {
     "name": "stdout",
     "output_type": "stream",
     "text": [
      "What is your telephone number?: 262-290-2135\n"
     ]
    }
   ],
   "source": [
    "phone_number = input('What is your telephone number?: ')"
   ]
  },
  {
   "cell_type": "code",
   "execution_count": null,
   "id": "6b604066",
   "metadata": {},
   "outputs": [],
   "source": [
    "#Next display the students college major"
   ]
  },
  {
   "cell_type": "code",
   "execution_count": 10,
   "id": "45d68e69",
   "metadata": {},
   "outputs": [
    {
     "name": "stdout",
     "output_type": "stream",
     "text": [
      "What is your major?: Computer science\n"
     ]
    }
   ],
   "source": [
    "major = input('What is your major?: ')"
   ]
  },
  {
   "cell_type": "code",
   "execution_count": 12,
   "id": "ca7feb2a",
   "metadata": {},
   "outputs": [
    {
     "name": "stdout",
     "output_type": "stream",
     "text": [
      "John Johnston. 3901 State St, Albany, MD, 71029 262-290-2135 Computer science\n"
     ]
    }
   ],
   "source": [
    "print(name, address, phone_number, major)"
   ]
  },
  {
   "cell_type": "code",
   "execution_count": null,
   "id": "64769b97",
   "metadata": {},
   "outputs": [],
   "source": [
    "# Algorithm Workbench 6"
   ]
  },
  {
   "cell_type": "code",
   "execution_count": 13,
   "id": "160b706d",
   "metadata": {},
   "outputs": [],
   "source": [
    "#Write a python statement that subtracts the variable down_payment from variable total.\n",
    "#To do this I will be using variables and equations in python"
   ]
  },
  {
   "cell_type": "code",
   "execution_count": 14,
   "id": "2823d411",
   "metadata": {},
   "outputs": [],
   "source": [
    "down_payment = 5000"
   ]
  },
  {
   "cell_type": "code",
   "execution_count": 16,
   "id": "f7863dd9",
   "metadata": {},
   "outputs": [],
   "source": [
    "total = 17000"
   ]
  },
  {
   "cell_type": "code",
   "execution_count": null,
   "id": "0a7fe9ec",
   "metadata": {},
   "outputs": [],
   "source": [
    "#I will use the - operator to subtract the total from the down payment to get the amount due"
   ]
  },
  {
   "cell_type": "code",
   "execution_count": 19,
   "id": "007ef7f5",
   "metadata": {},
   "outputs": [],
   "source": [
    "due = total - down_payment"
   ]
  },
  {
   "cell_type": "code",
   "execution_count": 20,
   "id": "474f0d59",
   "metadata": {},
   "outputs": [
    {
     "name": "stdout",
     "output_type": "stream",
     "text": [
      "12000\n"
     ]
    }
   ],
   "source": [
    "print(due)"
   ]
  },
  {
   "cell_type": "code",
   "execution_count": 21,
   "id": "da725468",
   "metadata": {},
   "outputs": [],
   "source": [
    "#Programming Exercise number 13 planting grapevines\n",
    "#I will be creating a program to calculate the row in feet, amount of space in feet, and space between vines"
   ]
  },
  {
   "cell_type": "code",
   "execution_count": 22,
   "id": "d7952941",
   "metadata": {},
   "outputs": [],
   "source": [
    "#to start I will ask for the length of the row in feet, space used by end post, and space between vines"
   ]
  },
  {
   "cell_type": "code",
   "execution_count": 39,
   "id": "e55805cc",
   "metadata": {},
   "outputs": [
    {
     "name": "stdout",
     "output_type": "stream",
     "text": [
      "Enter the length of the row, in feet: 400\n"
     ]
    }
   ],
   "source": [
    "#Prompt user to enter length\n",
    "length = int(input('Enter the length of the row, in feet: '))"
   ]
  },
  {
   "cell_type": "code",
   "execution_count": 40,
   "id": "1bf21e6a",
   "metadata": {},
   "outputs": [
    {
     "name": "stdout",
     "output_type": "stream",
     "text": [
      "Enter the space used by end post, in feet: 600\n"
     ]
    }
   ],
   "source": [
    "#Prompt user to enter space used by end post \n",
    "space = int(input('Enter the space used by end post, in feet: '))"
   ]
  },
  {
   "cell_type": "code",
   "execution_count": 41,
   "id": "7d0f8692",
   "metadata": {},
   "outputs": [
    {
     "name": "stdout",
     "output_type": "stream",
     "text": [
      "Enter the space between the vines, in feet 10\n"
     ]
    }
   ],
   "source": [
    "#Prompt user to enter space between vines\n",
    "space_between = int(input('Enter the space between the vines, in feet '))"
   ]
  },
  {
   "cell_type": "code",
   "execution_count": 42,
   "id": "384e3404",
   "metadata": {},
   "outputs": [],
   "source": [
    "#Calculate the number of grapevines that will fit in a row\n",
    "row = length - space * 2 / space_between"
   ]
  },
  {
   "cell_type": "code",
   "execution_count": 43,
   "id": "e3b2f182",
   "metadata": {},
   "outputs": [
    {
     "name": "stdout",
     "output_type": "stream",
     "text": [
      "280.0\n"
     ]
    }
   ],
   "source": [
    "print(row)"
   ]
  },
  {
   "cell_type": "code",
   "execution_count": null,
   "id": "60113566",
   "metadata": {},
   "outputs": [],
   "source": []
  }
 ],
 "metadata": {
  "kernelspec": {
   "display_name": "Python 3 (ipykernel)",
   "language": "python",
   "name": "python3"
  },
  "language_info": {
   "codemirror_mode": {
    "name": "ipython",
    "version": 3
   },
   "file_extension": ".py",
   "mimetype": "text/x-python",
   "name": "python",
   "nbconvert_exporter": "python",
   "pygments_lexer": "ipython3",
   "version": "3.11.5"
  }
 },
 "nbformat": 4,
 "nbformat_minor": 5
}
