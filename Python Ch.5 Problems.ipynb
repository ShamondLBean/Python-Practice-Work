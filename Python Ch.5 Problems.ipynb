{
 "cells": [
  {
   "cell_type": "code",
   "execution_count": 3,
   "id": "b54810c1",
   "metadata": {},
   "outputs": [],
   "source": [
    "#I will be starting with algorithm workbench question 1\n",
    "#I am tasked with writing a function named times ten, it should accept an argument and display the product of it's argument x10\n",
    "#I will begin by creating a parameter variable\n",
    "def times_ten(number):\n",
    "    #Next I will pass the argument for the parameter\n",
    "    product = number * 10\n",
    "    #Last I will print the result\n",
    "    print(product)\n",
    "    \n"
   ]
  },
  {
   "cell_type": "code",
   "execution_count": 4,
   "id": "f66c6647",
   "metadata": {},
   "outputs": [],
   "source": [
    "#I will be doing algoritm workbench question 3 next\n",
    "#Question 3 asks what values would be assigned to a, b, and c.\n",
    "#I will display the problem to clear up any confusion.\n",
    "def my_function(a, b, c):\n",
    "    my_function(3, 2, 1)\n",
    "#3 will be passed to a, 2 will be passed to b, and 1 will be passed c. "
   ]
  },
  {
   "cell_type": "code",
   "execution_count": 6,
   "id": "7b554f97",
   "metadata": {},
   "outputs": [],
   "source": [
    "#Next I will be doing programming excercise 1.\n",
    "#In question one I am asked to write a program that the user can enter a distance in kilometers and use a function to convert km\n",
    "#I will start by creating the main parameter \n",
    "def main():\n",
    "    #Next I will create the input for the user to enter the distance.\n",
    "    distance_km = float(input('Please enter a distance in kilometers: '))\n",
    "    #Next I will create the function to convert km.\n",
    "    kilo_converter(distance_km)"
   ]
  },
  {
   "cell_type": "code",
   "execution_count": 8,
   "id": "45ee4467",
   "metadata": {},
   "outputs": [],
   "source": [
    "#Next I will create a parameter variable for the kilo converter.\n",
    "def kilo_converter(distance):\n",
    "    #Next I will pass the argument for the converter\n",
    "    distance_miles = distance * 0.6214\n",
    "    #Next I will create the print function.\n",
    "    print(\"{distance}Kilometers converts to {distance_miles}Miles.\")"
   ]
  },
  {
   "cell_type": "code",
   "execution_count": null,
   "id": "790d5133",
   "metadata": {},
   "outputs": [],
   "source": [
    "#Last I will call on the main function to run the program.\n",
    "main()"
   ]
  },
  {
   "cell_type": "code",
   "execution_count": null,
   "id": "ea953f8f",
   "metadata": {},
   "outputs": [],
   "source": [
    "#Next I will be doing exercise 16 prime numbers.\n",
    "#The exercise asks me to write a boolean function is_prime. I will use the function in the program to indicate if the number \n",
    "#is prime or not\n",
    "#First I will begin by creating the main parameter\n",
    "def main():\n",
    "    #Next I will create the user input\n",
    "    number = int(input('Enter a number: '))\n",
    "    #Next I will create the boolean function\n",
    "    prime = is_prime(number)\n",
    "    #Next I will create the if else statement for the function.\n",
    "    if prime:\n",
    "        print(number, 'is a prime number')\n",
    "    else:\n",
    "        print(number, 'is not a prime number')\n",
    "    "
   ]
  },
  {
   "cell_type": "code",
   "execution_count": null,
   "id": "db2c3281",
   "metadata": {},
   "outputs": [],
   "source": [
    "#Next I will create the parameter for is_prime\n",
    "def is_prime(number):\n",
    "    #Next I will use the counter variable for the if else statement I will be writing later\n",
    "    counter = 0\n",
    "    #Next I will use the for variable to create a for if else structure\n",
    "    for num in range(2, number)\n",
    "        if number % num == 0:\n",
    "            counter += 1\n",
    "            \n",
    "    #Next I will create an if else statement to return the values as true or false.\n",
    "    if counter == 0:\n",
    "        return True\n",
    "    else:\n",
    "        return False"
   ]
  },
  {
   "cell_type": "code",
   "execution_count": null,
   "id": "7a006819",
   "metadata": {},
   "outputs": [],
   "source": [
    "#Last I will call the main function to run the program.\n",
    "main()"
   ]
  },
  {
   "cell_type": "code",
   "execution_count": null,
   "id": "c5552030",
   "metadata": {},
   "outputs": [],
   "source": [
    "#Next I will be doing problem 17 prime number list\n",
    "#I am tasked with creating a program that will all prime numbers 1-100\n",
    "#First I will use the same main parameter as Q.16 since there is no difference in the 2.\n",
    "def main():\n",
    "    #Next I will create the user input\n",
    "    number = int(input('Enter a number: '))\n",
    "    #Next I will create the boolean function\n",
    "    prime = is_prime(number)\n",
    "    #Next I will create the if else statement for the function.\n",
    "    if prime:\n",
    "        print(number, 'is a prime number')\n",
    "    else:\n",
    "        print(number, 'is not a prime number')"
   ]
  },
  {
   "cell_type": "code",
   "execution_count": null,
   "id": "d62966a8",
   "metadata": {},
   "outputs": [],
   "source": [
    "#Next I will create the parameter for if_prime\n",
    "def is_prime():\n",
    "    #Next I will set the status to true until it's false.\n",
    "    status = True\n",
    "    #Next I will use the for statement to test numbers inside of the range 1-101.\n",
    "    for test_num in range(1, 101):\n",
    "        #Next I will use the counter for the loop.\n",
    "        counter = 0\n",
    "        #Next I will use the for statement to test the numbers inside the range of 2, and the value of test_num.\n",
    "        for num in range(2, test_num):\n",
    "            if test_num % num == 0:\n",
    "                #Next I will set the status counter to false for whenever the number can be divided by itself.\n",
    "                status = False\n",
    "                counter += 1\n",
    "        return status       "
   ]
  },
  {
   "cell_type": "code",
   "execution_count": null,
   "id": "65919936",
   "metadata": {},
   "outputs": [],
   "source": [
    "#Last I will call the main function to run the program.\n",
    "main()"
   ]
  },
  {
   "cell_type": "code",
   "execution_count": null,
   "id": "51229f83",
   "metadata": {},
   "outputs": [],
   "source": [
    "#For my last exercise I chose number 3.\n",
    "#I am tasked to write a program that asks the user to input the cost of a replacement building,\n",
    "#Then display the minimum amount of insurance they should buy.\n",
    "#First I will start by assigning the insurance percentage.\n",
    "insurance_percent = 0.8\n",
    "#Next I will create the parameters for main.\n",
    "def main():\n",
    "    #Next I will create the input for the replacement cost.\n",
    "    replacement_cost = float(input('Enter the replacement cost for the building: '))\n",
    "    #Next I will create the value for insurance_cost\n",
    "    insurance_cost = insurance(replacement_cost)\n",
    "    "
   ]
  }
 ],
 "metadata": {
  "kernelspec": {
   "display_name": "Python 3 (ipykernel)",
   "language": "python",
   "name": "python3"
  },
  "language_info": {
   "codemirror_mode": {
    "name": "ipython",
    "version": 3
   },
   "file_extension": ".py",
   "mimetype": "text/x-python",
   "name": "python",
   "nbconvert_exporter": "python",
   "pygments_lexer": "ipython3",
   "version": "3.11.5"
  }
 },
 "nbformat": 4,
 "nbformat_minor": 5
}
