{
 "cells": [
  {
   "cell_type": "code",
   "execution_count": 3,
   "id": "cabcf196",
   "metadata": {},
   "outputs": [],
   "source": [
    "#I will be starting with algorithm workbench question 1\n",
    "#I am tasked with writing a function named times ten, it should accept an argument and display the product of it's argument x10\n",
    "#I will begin by creating a parameter variable\n",
    "def times_ten(number):\n",
    "    #Next I will pass the argument for the parameter\n",
    "    product = number * 10\n",
    "    #Last I will print the result\n",
    "    print(product)\n",
    "    \n"
   ]
  },
  {
   "cell_type": "code",
   "execution_count": 4,
   "id": "d527edab",
   "metadata": {},
   "outputs": [],
   "source": [
    "#I will be doing algoritm workbench question 3 next\n",
    "#Question 3 asks what values would be assigned to a, b, and c.\n",
    "#I will display the problem to clear up any confusion.\n",
    "def my_function(a, b, c):\n",
    "    my_function(3, 2, 1)\n",
    "#3 will be passed to a, 2 will be passed to b, and 1 will be passed c. "
   ]
  },
  {
   "cell_type": "code",
   "execution_count": 6,
   "id": "cb71e968",
   "metadata": {},
   "outputs": [],
   "source": [
    "#Next I will be doing programming excercise 1.\n",
    "#In question one I am asked to write a program that the user can enter a distance in kilometers and use a function to convert km\n",
    "#I will start by creating the main parameter \n",
    "def main():\n",
    "    #Next I will create the input for the user to enter the distance.\n",
    "    distance_km = float(input('Please enter a distance in kilometers: '))\n",
    "    #Next I will create the function to convert km.\n",
    "    kilo_converter(distance_km)"
   ]
  },
  {
   "cell_type": "code",
   "execution_count": 8,
   "id": "10ba2ad5",
   "metadata": {},
   "outputs": [],
   "source": [
    "#Next I will create a parameter variable for the kilo converter.\n",
    "def kilo_converter(distance):\n",
    "    #Next I will pass the argument for the converter\n",
    "    distance_miles = distance * 0.6214\n",
    "    #Next I will create the print function.\n",
    "    print(\"{distance}Kilometers converts to {distance_miles}Miles.\")"
   ]
  },
  {
   "cell_type": "code",
   "execution_count": null,
   "id": "e732bdd2",
   "metadata": {},
   "outputs": [],
   "source": [
    "#Last I will call on the main function to run the program.\n",
    "main()"
   ]
  },
  {
   "cell_type": "code",
   "execution_count": null,
   "id": "4217b374",
   "metadata": {},
   "outputs": [],
   "source": [
    "#Next I will be doing exercise 16 prime numbers.\n",
    "#The exercise asks me to write a boolean function is_prime. I will use the function in the program to indicate if the number \n",
    "#is prime or not\n",
    "#First I will begin by creating the main parameter\n",
    "def main():\n",
    "    #Next I will create the user input\n",
    "    number = int(input('Enter a number: '))\n",
    "    #Next I will create the boolean function\n",
    "    prime = is_prime(number)\n",
    "    #Next I will create the if else statement for the function.\n",
    "    if prime:\n",
    "        print(number, 'is a prime number')\n",
    "    else:\n",
    "        print(number, 'is not a prime number')\n",
    "    "
   ]
  },
  {
   "cell_type": "code",
   "execution_count": null,
   "id": "6149322e",
   "metadata": {},
   "outputs": [],
   "source": [
    "#Next I will create the parameter for is_prime\n",
    "def is_prime(number):\n",
    "    #Next I will use the counter variable for the if else statement I will be writing later\n",
    "    counter = 0\n",
    "    #Next I will use the for variable to create a for if else structure\n",
    "    for num in range(2, number)\n",
    "        if number % num == 0:\n",
    "            counter += 1\n",
    "            \n",
    "    #Next I will create an if else statement to return the values as true or false.\n",
    "    if counter == 0:\n",
    "        return True\n",
    "    else:\n",
    "        return False"
   ]
  },
  {
   "cell_type": "code",
   "execution_count": null,
   "id": "165db2e2",
   "metadata": {},
   "outputs": [],
   "source": [
    "#Last I will call the main function to run the program.\n",
    "main()"
   ]
  },
  {
   "cell_type": "code",
   "execution_count": null,
   "id": "9d932523",
   "metadata": {},
   "outputs": [],
   "source": [
    "#Next I will be doing problem 17 prime number list\n",
    "#I am tasked with creating a program that will all prime numbers 1-100\n",
    "#First I will use the same main parameter as Q.16 since there is no difference in the 2.\n",
    "def main():\n",
    "    #Next I will create the user input\n",
    "    number = int(input('Enter a number: '))\n",
    "    #Next I will create the boolean function\n",
    "    prime = is_prime(number)\n",
    "    #Next I will create the if else statement for the function.\n",
    "    if prime:\n",
    "        print(number, 'is a prime number')\n",
    "    else:\n",
    "        print(number, 'is not a prime number')"
   ]
  },
  {
   "cell_type": "code",
   "execution_count": null,
   "id": "86dbdab0",
   "metadata": {},
   "outputs": [],
   "source": []
  }
 ],
 "metadata": {
  "kernelspec": {
   "display_name": "Python 3 (ipykernel)",
   "language": "python",
   "name": "python3"
  },
  "language_info": {
   "codemirror_mode": {
    "name": "ipython",
    "version": 3
   },
   "file_extension": ".py",
   "mimetype": "text/x-python",
   "name": "python",
   "nbconvert_exporter": "python",
   "pygments_lexer": "ipython3",
   "version": "3.11.5"
  }
 },
 "nbformat": 4,
 "nbformat_minor": 5
}
