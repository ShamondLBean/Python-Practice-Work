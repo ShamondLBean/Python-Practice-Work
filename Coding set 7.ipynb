{
 "cells": [
  {
   "cell_type": "code",
   "execution_count": 4,
   "id": "f6be55dd",
   "metadata": {},
   "outputs": [
    {
     "name": "stdout",
     "output_type": "stream",
     "text": [
      "[0, 1, 2, 3, 4]\n"
     ]
    }
   ],
   "source": [
    "numbers = list(range(5))\n",
    "print(numbers)"
   ]
  },
  {
   "cell_type": "code",
   "execution_count": 5,
   "id": "c767e315",
   "metadata": {},
   "outputs": [
    {
     "name": "stdout",
     "output_type": "stream",
     "text": [
      "[5, 5, 5, 5, 5]\n"
     ]
    }
   ],
   "source": [
    "numbers = [5] * 5\n",
    "print(numbers)"
   ]
  },
  {
   "cell_type": "code",
   "execution_count": 6,
   "id": "45172b0d",
   "metadata": {},
   "outputs": [
    {
     "name": "stdout",
     "output_type": "stream",
     "text": [
      "Einstein\n",
      "Newton\n",
      "Copernicus\n",
      "Kelper\n"
     ]
    }
   ],
   "source": [
    "#I will be starting with Algorithm Workbench Q.1\n",
    "#I will start by creating my list of names.\n",
    "names = ['Einstein', 'Newton', 'Copernicus', 'Kelper']\n",
    "#Next I will create the for loop\n",
    "for index in range(len(names)):\n",
    "    #Next I will print the list\n",
    "    print(names[index])"
   ]
  },
  {
   "cell_type": "code",
   "execution_count": 7,
   "id": "d64531f5",
   "metadata": {},
   "outputs": [
    {
     "name": "stdout",
     "output_type": "stream",
     "text": [
      "Jerome\n",
      "Franklin\n",
      "Teddy\n",
      "Leon\n"
     ]
    }
   ],
   "source": [
    "#Next I will be doing Algorithm Workbench Q.2\n",
    "#I will start by creating the list of names\\\n",
    "names = ['Jerome', 'Franklin', 'Teddy', 'Leon']\n",
    "#Next I will create the for loop for the names\n",
    "for index in range(len(names)):\n",
    "    \n",
    "    #Last I will print the list of names with the index in it\n",
    "    print(names[index])"
   ]
  },
  {
   "cell_type": "code",
   "execution_count": null,
   "id": "bd66dbd6",
   "metadata": {},
   "outputs": [],
   "source": [
    "#Next I will be doing Programming Exercise Q.1\n",
    "#First I will start by creating a variable for the number of days in a week\n",
    "days_in_week = 7\n",
    "#Next I will call on the main function\n",
    "def main():\n",
    "    #Next I will give a value to the total variable\n",
    "    total = 0.0\n",
    "    #Next I will create a list for the sales, I will use the repetition operator as well\n",
    "    sales_list = [0] * days_in_week\n",
    "    #Next I will create the for loop\n",
    "    "
   ]
  }
 ],
 "metadata": {
  "kernelspec": {
   "display_name": "Python 3 (ipykernel)",
   "language": "python",
   "name": "python3"
  },
  "language_info": {
   "codemirror_mode": {
    "name": "ipython",
    "version": 3
   },
   "file_extension": ".py",
   "mimetype": "text/x-python",
   "name": "python",
   "nbconvert_exporter": "python",
   "pygments_lexer": "ipython3",
   "version": "3.11.5"
  }
 },
 "nbformat": 4,
 "nbformat_minor": 5
}
