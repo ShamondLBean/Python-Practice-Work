{
 "cells": [
  {
   "cell_type": "code",
   "execution_count": 4,
   "id": "eb326fb9",
   "metadata": {},
   "outputs": [],
   "source": [
    "#I will be starting with Algorithm Workbench Q.1\n",
    "#I will start by creating the main function\n",
    "def main():\n",
    "    #Next I will use outfile to open the file\n",
    "    infile = open('my_name.txt', 'w')\n",
    "    #Next I will write my name in the file\n",
    "    infile.write('Shamond Bean')\n",
    "    #Next I will close the file\n",
    "    infile.close()\n",
    "#Last I will call the main function again\n",
    "if __name__ == '__main__':\n",
    "    main()\n"
   ]
  },
  {
   "cell_type": "code",
   "execution_count": 11,
   "id": "c60c7150",
   "metadata": {},
   "outputs": [
    {
     "ename": "AttributeError",
     "evalue": "'builtin_function_or_method' object has no attribute 'rstrip'",
     "output_type": "error",
     "traceback": [
      "\u001b[1;31m---------------------------------------------------------------------------\u001b[0m",
      "\u001b[1;31mAttributeError\u001b[0m                            Traceback (most recent call last)",
      "Cell \u001b[1;32mIn[11], line 13\u001b[0m\n\u001b[0;32m     11\u001b[0m \u001b[38;5;66;03m#Last I will call the main function\u001b[39;00m\n\u001b[0;32m     12\u001b[0m \u001b[38;5;28;01mif\u001b[39;00m \u001b[38;5;18m__name__\u001b[39m \u001b[38;5;241m==\u001b[39m \u001b[38;5;124m'\u001b[39m\u001b[38;5;124m__main__\u001b[39m\u001b[38;5;124m'\u001b[39m:\n\u001b[1;32m---> 13\u001b[0m     main()\n",
      "Cell \u001b[1;32mIn[11], line 9\u001b[0m, in \u001b[0;36mmain\u001b[1;34m()\u001b[0m\n\u001b[0;32m      6\u001b[0m     line \u001b[38;5;241m=\u001b[39m infile\u001b[38;5;241m.\u001b[39mreadline\n\u001b[0;32m      7\u001b[0m     \u001b[38;5;28;01mwhile\u001b[39;00m line \u001b[38;5;241m!=\u001b[39m \u001b[38;5;124m'\u001b[39m\u001b[38;5;124m'\u001b[39m:\n\u001b[0;32m      8\u001b[0m \u001b[38;5;66;03m#Next I will print the data in the file\u001b[39;00m\n\u001b[1;32m----> 9\u001b[0m         \u001b[38;5;28mprint\u001b[39m(line\u001b[38;5;241m.\u001b[39mrstrip)\n\u001b[0;32m     10\u001b[0m         line \u001b[38;5;241m=\u001b[39m infile\u001b[38;5;241m.\u001b[39mreadline\n",
      "\u001b[1;31mAttributeError\u001b[0m: 'builtin_function_or_method' object has no attribute 'rstrip'"
     ]
    }
   ],
   "source": [
    "#Next I willl be doing Algorithm Workbench Q.2\n",
    "#I will first start by calling the main function\n",
    "def main():\n",
    "    #Next I will open the file using the with function\n",
    "    with open('my_name.txt', 'r') as infile:\n",
    "        line = infile.readline\n",
    "        while line != '':\n",
    "    #Next I will print the data in the file\n",
    "            print(line.rstrip)\n",
    "            line = infile.readline\n",
    "#Last I will call the main function\n",
    "if __name__ == '__main__':\n",
    "    main()"
   ]
  },
  {
   "cell_type": "code",
   "execution_count": 12,
   "id": "4db9b574",
   "metadata": {},
   "outputs": [
    {
     "name": "stdout",
     "output_type": "stream",
     "text": [
      "Numbers have been written to numbers.txt.\n"
     ]
    }
   ],
   "source": [
    "#Next I will be doing Programming Exercise Q.1\n",
    "#I will start by calling the main function\n",
    "def main():\n",
    "    #Next I will create a variable to control the loop\n",
    "    again = 'q'\n",
    "    #Next I will open the output file\n",
    "    outfile = open('numbers.txt', 'w')\n",
    "    #Next I will use the while function for the loop\n",
    "    while again == 'y' or again == 'Y':\n",
    "        #Next I will create the user input\n",
    "        num = int(input('Please enter a number: '))\n",
    "        #Next I will use outfile.write\n",
    "        outfile.write(str(num) + '\\n')\n",
    "        #Next I will create another user input\n",
    "        again = input('Enter (y/n) to enter another number: ')\n",
    "    #Next I will close the outfile\n",
    "    outfile.close()\n",
    "    #Next I will print what was written in the file\n",
    "    print('Numbers have been written to numbers.txt.')\n",
    "#Last I will call the main function again\n",
    "main()\n",
    "                 "
   ]
  },
  {
   "cell_type": "code",
   "execution_count": 20,
   "id": "4d2c8ff3",
   "metadata": {},
   "outputs": [
    {
     "ename": "ZeroDivisionError",
     "evalue": "float division by zero",
     "output_type": "error",
     "traceback": [
      "\u001b[1;31m---------------------------------------------------------------------------\u001b[0m",
      "\u001b[1;31mZeroDivisionError\u001b[0m                         Traceback (most recent call last)",
      "Cell \u001b[1;32mIn[20], line 21\u001b[0m\n\u001b[0;32m     19\u001b[0m     \u001b[38;5;28mprint\u001b[39m(\u001b[38;5;124mf\u001b[39m\u001b[38;5;124m'\u001b[39m\u001b[38;5;124mThe average of numbers in this file is \u001b[39m\u001b[38;5;132;01m{\u001b[39;00maverage\u001b[38;5;132;01m}\u001b[39;00m\u001b[38;5;124m.\u001b[39m\u001b[38;5;124m'\u001b[39m) \n\u001b[0;32m     20\u001b[0m \u001b[38;5;66;03m#Last I will call on the main function again\u001b[39;00m\n\u001b[1;32m---> 21\u001b[0m main()\n",
      "Cell \u001b[1;32mIn[20], line 17\u001b[0m, in \u001b[0;36mmain\u001b[1;34m()\u001b[0m\n\u001b[0;32m     15\u001b[0m infile\u001b[38;5;241m.\u001b[39mclose()   \n\u001b[0;32m     16\u001b[0m \u001b[38;5;66;03m#Next I will do the math for the average\u001b[39;00m\n\u001b[1;32m---> 17\u001b[0m average \u001b[38;5;241m=\u001b[39m total \u001b[38;5;241m/\u001b[39m count\n\u001b[0;32m     18\u001b[0m \u001b[38;5;66;03m#Next I will print the average\u001b[39;00m\n\u001b[0;32m     19\u001b[0m \u001b[38;5;28mprint\u001b[39m(\u001b[38;5;124mf\u001b[39m\u001b[38;5;124m'\u001b[39m\u001b[38;5;124mThe average of numbers in this file is \u001b[39m\u001b[38;5;132;01m{\u001b[39;00maverage\u001b[38;5;132;01m}\u001b[39;00m\u001b[38;5;124m.\u001b[39m\u001b[38;5;124m'\u001b[39m)\n",
      "\u001b[1;31mZeroDivisionError\u001b[0m: float division by zero"
     ]
    }
   ],
   "source": [
    "#Next I will be doing programming exercise q.6\n",
    "#First I will start by calling the main function\n",
    "def main():\n",
    "    #Next I will create variables for count and total\n",
    "    count = 0\n",
    "    total = 0.0\n",
    "    #Next I will open an infile\n",
    "    infile = open('numbers.txt', 'r')\n",
    "    #Next I will be using the for function \n",
    "    for line in infile:\n",
    "        value = float(line)\n",
    "        count +=1\n",
    "        total += value\n",
    "#Next I will close the file\n",
    "    infile.close()   \n",
    "    #Next I will do the math for the average\n",
    "    average = total / count\n",
    "    #Next I will print the average\n",
    "    print(f'The average of numbers in this file is {average}.') \n",
    "#Last I will call on the main function again\n",
    "main()"
   ]
  },
  {
   "cell_type": "code",
   "execution_count": 21,
   "id": "4abcccc1",
   "metadata": {},
   "outputs": [
    {
     "ename": "ZeroDivisionError",
     "evalue": "float division by zero",
     "output_type": "error",
     "traceback": [
      "\u001b[1;31m---------------------------------------------------------------------------\u001b[0m",
      "\u001b[1;31mZeroDivisionError\u001b[0m                         Traceback (most recent call last)",
      "Cell \u001b[1;32mIn[21], line 22\u001b[0m\n\u001b[0;32m     20\u001b[0m     \u001b[38;5;28;01mexcept\u001b[39;00m \u001b[38;5;167;01mValueError\u001b[39;00m:\n\u001b[0;32m     21\u001b[0m         \u001b[38;5;28mprint\u001b[39m(\u001b[38;5;124m'\u001b[39m\u001b[38;5;124mThe value cannot be converted to numbers.\u001b[39m\u001b[38;5;124m'\u001b[39m)\n\u001b[1;32m---> 22\u001b[0m main()\n",
      "Cell \u001b[1;32mIn[21], line 14\u001b[0m, in \u001b[0;36mmain\u001b[1;34m()\u001b[0m\n\u001b[0;32m     12\u001b[0m         total \u001b[38;5;241m+\u001b[39m\u001b[38;5;241m=\u001b[39m value\n\u001b[0;32m     13\u001b[0m     infile\u001b[38;5;241m.\u001b[39mclose()   \n\u001b[1;32m---> 14\u001b[0m     average \u001b[38;5;241m=\u001b[39m total \u001b[38;5;241m/\u001b[39m count\n\u001b[0;32m     15\u001b[0m     \u001b[38;5;28mprint\u001b[39m(\u001b[38;5;124mf\u001b[39m\u001b[38;5;124m'\u001b[39m\u001b[38;5;124mThe average of numbers in this file is \u001b[39m\u001b[38;5;132;01m{\u001b[39;00maverage\u001b[38;5;132;01m}\u001b[39;00m\u001b[38;5;124m.\u001b[39m\u001b[38;5;124m'\u001b[39m) \n\u001b[0;32m     16\u001b[0m \u001b[38;5;66;03m#I will use except IOError here for file not found errors\u001b[39;00m\n",
      "\u001b[1;31mZeroDivisionError\u001b[0m: float division by zero"
     ]
    }
   ],
   "source": [
    "#Next I will be doing programming exercise q.9\n",
    "#I will start by copying my code from the previous exercise and I will tweak it from there\n",
    "def main():\n",
    "    count = 0\n",
    "    total = 0.0\n",
    "    #I will use the try function to test for errors\n",
    "    try:\n",
    "        infile = open('numbers.txt', 'r')\n",
    "        for line in infile:\n",
    "            value = float(line)\n",
    "            count +=1\n",
    "            total += value\n",
    "        infile.close()   \n",
    "        average = total / count\n",
    "        print(f'The average of numbers in this file is {average}.') \n",
    "    #I will use except IOError here for file not found errors\n",
    "    except IOError:\n",
    "        print('The data cannot be read from this file.')\n",
    "    #I will use the except ValueError for bad value errors\n",
    "    except ValueError:\n",
    "        print('The value cannot be converted to numbers.')\n",
    "main()"
   ]
  },
  {
   "cell_type": "code",
   "execution_count": null,
   "id": "391927c5",
   "metadata": {},
   "outputs": [],
   "source": [
    "#Next I will be doing programming exercise q.3\n",
    "#I will start by calling the main function\n",
    "def main():\n",
    "    #Next I will create the variable count\n",
    "    count = 0\n",
    "    #Next I will create the input for the user to name the file\n",
    "    filename = input('Please enter a name for the file: ')\n",
    "    #Next I will open the infile\n",
    "    infile = open('filename', 'r')\n",
    "    #Next I will use the for function\n",
    "    for line in infile:\n",
    "        #Next I will create the variables inside the file and print them\n",
    "        amount = int(line)\n",
    "        count +=1\n",
    "        print('Line Number #', count, ': ', amount, sep='')"
   ]
  }
 ],
 "metadata": {
  "kernelspec": {
   "display_name": "Python 3 (ipykernel)",
   "language": "python",
   "name": "python3"
  },
  "language_info": {
   "codemirror_mode": {
    "name": "ipython",
    "version": 3
   },
   "file_extension": ".py",
   "mimetype": "text/x-python",
   "name": "python",
   "nbconvert_exporter": "python",
   "pygments_lexer": "ipython3",
   "version": "3.11.5"
  }
 },
 "nbformat": 4,
 "nbformat_minor": 5
}
