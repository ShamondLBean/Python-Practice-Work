{
 "cells": [
  {
   "cell_type": "code",
   "execution_count": 2,
   "id": "eb326fb9",
   "metadata": {},
   "outputs": [],
   "source": [
    "#I will be starting with Algorithm Workbench Q.1\n",
    "#I will start by creating the main function\n",
    "def main():\n",
    "    #Next I will use outfile to open the file\n",
    "    outfile = open('my_name.txt', 'w')\n",
    "    "
   ]
  },
  {
   "cell_type": "code",
   "execution_count": null,
   "id": "a89cfecc",
   "metadata": {},
   "outputs": [],
   "source": [
    "#Next I willl be doing Algorithm Workbench Q.2\n",
    "#I will first start by opening the file \n"
   ]
  }
 ],
 "metadata": {
  "kernelspec": {
   "display_name": "Python 3 (ipykernel)",
   "language": "python",
   "name": "python3"
  },
  "language_info": {
   "codemirror_mode": {
    "name": "ipython",
    "version": 3
   },
   "file_extension": ".py",
   "mimetype": "text/x-python",
   "name": "python",
   "nbconvert_exporter": "python",
   "pygments_lexer": "ipython3",
   "version": "3.11.5"
  }
 },
 "nbformat": 4,
 "nbformat_minor": 5
}
