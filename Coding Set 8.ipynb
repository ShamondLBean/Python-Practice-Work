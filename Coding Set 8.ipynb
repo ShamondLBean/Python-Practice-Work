{
 "cells": [
  {
   "cell_type": "code",
   "execution_count": 1,
   "id": "c86fdeaa",
   "metadata": {},
   "outputs": [],
   "source": [
    "#Algorithm Workbench Q.1\n",
    "if choice.upper() == 'Y'\n",
    "#I reached this answer by calling on upper after my choice function, in a string the loop would iterate again as long as 'Y' is\n",
    "#Entered by the user"
   ]
  },
  {
   "cell_type": "code",
   "execution_count": 5,
   "id": "9ab67693",
   "metadata": {},
   "outputs": [
    {
     "name": "stdout",
     "output_type": "stream",
     "text": [
      "The amount of lowercase letters is 0\n"
     ]
    }
   ],
   "source": [
    "#Algorithm Workbench Q.4\n",
    "#I will start by creating my string\n",
    "my_string = 'Hello my name is Shamond.'\n",
    "def main():        \n",
    "#Next I will create a variable to keep count\n",
    "    count = 0\n",
    "#Next I will create my for loop to and use the ch function to count my characters\n",
    "    for ch in my_string:\n",
    "#Next I will use the if function so my lowercase letters can be counted\n",
    "        if my_string.islower():\n",
    "            count + 1\n",
    "#Next I will print the result\n",
    "    print(f'The amount of lowercase letters is {count}')\n",
    "#Lastly I will call the main function again\n",
    "main()                \n",
    "#This problem was relatively simple but I did run into the problem of not naming my_string correctly."
   ]
  },
  {
   "cell_type": "code",
   "execution_count": 6,
   "id": "cca6bf97",
   "metadata": {},
   "outputs": [
    {
     "name": "stdout",
     "output_type": "stream",
     "text": [
      "Enter your first name: Shamond\n",
      "Enter your middle name: Latrell\n",
      "Enter your last name: Bean\n",
      "Your initials are S.L.B\n"
     ]
    }
   ],
   "source": [
    "#Programming Exercise Q.1\n",
    "#First I will start off with my main function\n",
    "def main():\n",
    "#Next I will get the user input for their initials\n",
    "    first = input('Enter your first name: ')\n",
    "    middle = input('Enter your middle name: ')\n",
    "    last = input('Enter your last name: ')\n",
    "#Next I will give value to my_initials\n",
    "    my_initials = get_initials(first, middle, last)\n",
    "    print(f'Your initials are {my_initials}')\n",
    "#Next I will use the get_initials function to create my set\n",
    "def get_initials(first_name, middle_name, last_name):\n",
    "    #Next I will create my sets and give them the value of 0 to use the first value in the name\n",
    "    set1 = first_name[0]\n",
    "    set2 = middle_name[0]\n",
    "    set3 = last_name[0]\n",
    "#Next I will add the initials together for my final result\n",
    "    initials = set1 + '.' + set2 + '.' + set3\n",
    "#Next I will use the return function to return the initials\n",
    "    return initials\n",
    "#Last I will call my main function\n",
    "main()\n",
    "#This problem was somewhat a struggle for me but not too bad, the thing I struggled with the most was giving the value\n",
    "#To my_initials. I just had a brain fart when I thought about what I actually had to do."
   ]
  },
  {
   "cell_type": "code",
   "execution_count": 9,
   "id": "045c35a1",
   "metadata": {},
   "outputs": [
    {
     "name": "stdout",
     "output_type": "stream",
     "text": [
      "Enter different single digit numbers: 2 5 1 4\n",
      "The total is 12\n"
     ]
    }
   ],
   "source": [
    "#Programming exercise Q.2\n",
    "#First I will call on my main function\n",
    "def main():\n",
    "#Next I will give values to the total and number string\n",
    "    total = 0\n",
    "    num_str = input('Enter different single digit numbers: ')\n",
    "#Next I will use the for function and ch to begin my program\n",
    "    for ch in num_str:\n",
    "#Next I will use the isdigit function for my if function\n",
    "        if ch.isdigit():\n",
    "            total += int(ch)\n",
    "    print(f'The total is {total}')\n",
    "#Last I will call the main function again\n",
    "main()"
   ]
  },
  {
   "cell_type": "code",
   "execution_count": 3,
   "id": "0a51299e",
   "metadata": {},
   "outputs": [
    {
     "name": "stdout",
     "output_type": "stream",
     "text": [
      "Enter a phrase: \"I built this shit, me, so I'll be damned if I let you tear it down just because you don't like the way another person talk\" - Franklin Saint\n",
      "The most frequent phrase is t\n"
     ]
    }
   ],
   "source": [
    "#Programming exercise Q.10\n",
    "#I will start by calling my main function\n",
    "def main():\n",
    "#Next I will get the input from the user\n",
    "    user_str = input('Enter a phrase: ')\n",
    "#Next I will give a value to frequent to determine the most frequent character\n",
    "    frequent = most_frequent(user_str)\n",
    "    print(f'The most frequent phrase is {frequent}')\n",
    "def most_frequent(user_str):\n",
    "#Next I will set the index to 0 and give a value to the alphabet\n",
    "    index = 0\n",
    "    alphabet = 'abcdefghijklmnopqrstuvwxyz'\n",
    "    add_alphabet = [0] * len(alphabet)\n",
    "#Next I will begin my for loop\n",
    "    for ch in alphabet:\n",
    "        word_count = user_str.count(ch)\n",
    "        add_alphabet[index] += word_count\n",
    "        index += 1\n",
    "#Next I will get the value and return it to finish the program\n",
    "    most_frequent = max(add_alphabet)\n",
    "    freq_index = add_alphabet.index(most_frequent)\n",
    "    result = alphabet[freq_index]\n",
    "    return result\n",
    "#Last I will call on the main function again\n",
    "main()\n",
    "       \n",
    "    \n",
    "    "
   ]
  },
  {
   "cell_type": "code",
   "execution_count": null,
   "id": "8cccbd4a",
   "metadata": {},
   "outputs": [],
   "source": []
  }
 ],
 "metadata": {
  "kernelspec": {
   "display_name": "Python 3 (ipykernel)",
   "language": "python",
   "name": "python3"
  },
  "language_info": {
   "codemirror_mode": {
    "name": "ipython",
    "version": 3
   },
   "file_extension": ".py",
   "mimetype": "text/x-python",
   "name": "python",
   "nbconvert_exporter": "python",
   "pygments_lexer": "ipython3",
   "version": "3.11.5"
  }
 },
 "nbformat": 4,
 "nbformat_minor": 5
}
