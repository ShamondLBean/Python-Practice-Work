{
 "cells": [
  {
   "cell_type": "code",
   "execution_count": 2,
   "id": "86b03626",
   "metadata": {},
   "outputs": [
    {
     "name": "stdout",
     "output_type": "stream",
     "text": [
      "0\n",
      "1\n",
      "2\n",
      "3\n",
      "4\n"
     ]
    }
   ],
   "source": [
    "for num in range(5):\n",
    "    print(num)"
   ]
  },
  {
   "cell_type": "code",
   "execution_count": 4,
   "id": "f1a6ec49",
   "metadata": {},
   "outputs": [
    {
     "name": "stdout",
     "output_type": "stream",
     "text": [
      "0\n",
      "1\n",
      "2\n",
      "3\n",
      "4\n",
      "5\n",
      "6\n",
      "7\n",
      "8\n",
      "9\n"
     ]
    }
   ],
   "source": [
    "for num in range(10):\n",
    "    print(num)"
   ]
  },
  {
   "cell_type": "code",
   "execution_count": 5,
   "id": "c362a6e7",
   "metadata": {},
   "outputs": [
    {
     "name": "stdout",
     "output_type": "stream",
     "text": [
      "Hello World\n",
      "Hello World\n",
      "Hello World\n"
     ]
    }
   ],
   "source": [
    "for x in range(3):\n",
    "    print('Hello World')"
   ]
  },
  {
   "cell_type": "code",
   "execution_count": 6,
   "id": "20428951",
   "metadata": {},
   "outputs": [
    {
     "name": "stdout",
     "output_type": "stream",
     "text": [
      "3\n",
      "4\n",
      "5\n",
      "6\n",
      "7\n",
      "8\n",
      "9\n"
     ]
    }
   ],
   "source": [
    "for num in range(3, 10):\n",
    "    print(num)"
   ]
  },
  {
   "cell_type": "code",
   "execution_count": 8,
   "id": "8ce20d60",
   "metadata": {},
   "outputs": [
    {
     "name": "stdout",
     "output_type": "stream",
     "text": [
      "1\n",
      "6\n",
      "11\n",
      "16\n",
      "21\n"
     ]
    }
   ],
   "source": [
    "for num in range(1, 25, 5):\n",
    "    print(num)"
   ]
  },
  {
   "cell_type": "code",
   "execution_count": 10,
   "id": "3d41b0aa",
   "metadata": {},
   "outputs": [
    {
     "name": "stdout",
     "output_type": "stream",
     "text": [
      "number\tSquare\n"
     ]
    }
   ],
   "source": [
    "print('Number\\tSquare')"
   ]
  },
  {
   "cell_type": "code",
   "execution_count": 11,
   "id": "3c128ca2",
   "metadata": {},
   "outputs": [
    {
     "name": "stdout",
     "output_type": "stream",
     "text": [
      "--------------\n"
     ]
    }
   ],
   "source": [
    "print('--------------')"
   ]
  },
  {
   "cell_type": "code",
   "execution_count": 26,
   "id": "cfb7d117",
   "metadata": {},
   "outputs": [
    {
     "name": "stdout",
     "output_type": "stream",
     "text": [
      "1\t1\n",
      "2\t4\n",
      "3\t9\n",
      "4\t16\n",
      "5\t25\n",
      "6\t36\n",
      "7\t49\n",
      "8\t64\n",
      "9\t81\n",
      "10\t100\n"
     ]
    }
   ],
   "source": [
    "for number in range(1, 11):\n",
    "    square = number**2\n",
    "    print(f'{number}\\t{square}')"
   ]
  },
  {
   "cell_type": "code",
   "execution_count": 21,
   "id": "b3595c47",
   "metadata": {},
   "outputs": [],
   "source": [
    "start_speed = 60\n",
    "end_speed = 131\n",
    "increment = 10\n",
    "conversion_rate = 0.6214"
   ]
  },
  {
   "cell_type": "code",
   "execution_count": 22,
   "id": "1329ec5f",
   "metadata": {},
   "outputs": [
    {
     "name": "stdout",
     "output_type": "stream",
     "text": [
      "KPH\tMPH\n"
     ]
    }
   ],
   "source": [
    "print('KPH\\tMPH')"
   ]
  },
  {
   "cell_type": "code",
   "execution_count": 23,
   "id": "4ccb2c60",
   "metadata": {},
   "outputs": [
    {
     "name": "stdout",
     "output_type": "stream",
     "text": [
      "--------------\n"
     ]
    }
   ],
   "source": [
    "print('--------------')"
   ]
  },
  {
   "cell_type": "code",
   "execution_count": 25,
   "id": "2e6fffe9",
   "metadata": {},
   "outputs": [
    {
     "name": "stdout",
     "output_type": "stream",
     "text": [
      "60\t37.284\n",
      "70\t43.498\n",
      "80\t49.711999999999996\n",
      "90\t55.925999999999995\n",
      "100\t62.13999999999999\n",
      "110\t68.354\n",
      "120\t74.568\n",
      "130\t80.782\n"
     ]
    }
   ],
   "source": [
    "for kph in range(start_speed, end_speed, increment):\n",
    "    mph = kph * conversion_rate\n",
    "    print(f'{kph}\\t{mph}')"
   ]
  },
  {
   "cell_type": "code",
   "execution_count": 28,
   "id": "ae0672fa",
   "metadata": {},
   "outputs": [
    {
     "name": "stdout",
     "output_type": "stream",
     "text": [
      "This program displays a list of numbers. \n",
      "(Starting at 1) and their squares \n"
     ]
    }
   ],
   "source": [
    "print('This program displays a list of numbers. ')\n",
    "print('(Starting at 1) and their squares ')"
   ]
  },
  {
   "cell_type": "code",
   "execution_count": 34,
   "id": "8aca11ac",
   "metadata": {},
   "outputs": [
    {
     "name": "stdout",
     "output_type": "stream",
     "text": [
      "How high should I go? 12\n"
     ]
    }
   ],
   "source": [
    "end = int(input('How high should I go? '))"
   ]
  },
  {
   "cell_type": "code",
   "execution_count": 35,
   "id": "2664857f",
   "metadata": {},
   "outputs": [
    {
     "name": "stdout",
     "output_type": "stream",
     "text": [
      "\n",
      "Number\tSquare\n",
      "----------------\n"
     ]
    }
   ],
   "source": [
    "print()\n",
    "print('Number\\tSquare')\n",
    "print('------------------')"
   ]
  },
  {
   "cell_type": "code",
   "execution_count": 36,
   "id": "6985b164",
   "metadata": {},
   "outputs": [
    {
     "name": "stdout",
     "output_type": "stream",
     "text": [
      "1\t1\n",
      "2\t4\n",
      "3\t9\n",
      "4\t16\n",
      "5\t25\n",
      "6\t36\n",
      "7\t49\n",
      "8\t64\n",
      "9\t81\n",
      "10\t100\n",
      "11\t121\n",
      "12\t144\n"
     ]
    }
   ],
   "source": [
    "for number in range(1, end + 1):\n",
    "    square = number**2\n",
    "    print(f'{number}\\t{square}')"
   ]
  },
  {
   "cell_type": "code",
   "execution_count": 38,
   "id": "f3b1c8ae",
   "metadata": {},
   "outputs": [
    {
     "name": "stdout",
     "output_type": "stream",
     "text": [
      "15\n",
      "12\n",
      "9\n",
      "6\n",
      "3\n",
      "0\n",
      "-3\n"
     ]
    }
   ],
   "source": [
    "for num in range(15, -5, -3):\n",
    "    print(num)"
   ]
  },
  {
   "cell_type": "code",
   "execution_count": 39,
   "id": "a031b9ee",
   "metadata": {},
   "outputs": [
    {
     "name": "stdout",
     "output_type": "stream",
     "text": [
      "I love to code!\n",
      "I love to code!\n",
      "I love to code!\n",
      "I love to code!\n",
      "I love to code!\n",
      "I love to code!\n"
     ]
    }
   ],
   "source": [
    "for x in range(6):\n",
    "    print('I love to code!')"
   ]
  },
  {
   "cell_type": "code",
   "execution_count": 44,
   "id": "7e6b25a1",
   "metadata": {},
   "outputs": [],
   "source": [
    "MAX = 5\n",
    "total = 0.0"
   ]
  },
  {
   "cell_type": "code",
   "execution_count": 45,
   "id": "cca0c7fd",
   "metadata": {},
   "outputs": [
    {
     "name": "stdout",
     "output_type": "stream",
     "text": [
      "This program calculates the sum of 5 numbers you will enter\n"
     ]
    }
   ],
   "source": [
    "print('This program calculates the sum of ', end='')\n",
    "print(f'{MAX} numbers you will enter')"
   ]
  },
  {
   "cell_type": "code",
   "execution_count": 47,
   "id": "923c7e83",
   "metadata": {},
   "outputs": [
    {
     "name": "stdout",
     "output_type": "stream",
     "text": [
      "Please enter a number: 1\n",
      "Please enter a number: 2\n",
      "Please enter a number: 3\n",
      "Please enter a number: 4\n",
      "Please enter a number: 5\n"
     ]
    }
   ],
   "source": [
    "for counter in range(MAX):\n",
    "    number = int(input('Please enter a number: '))\n",
    "    total = total + number\n",
    "    "
   ]
  },
  {
   "cell_type": "code",
   "execution_count": 48,
   "id": "6c638802",
   "metadata": {},
   "outputs": [
    {
     "name": "stdout",
     "output_type": "stream",
     "text": [
      "The total is 18.0.\n"
     ]
    }
   ],
   "source": [
    "print(f'The total is {total}.')"
   ]
  },
  {
   "cell_type": "code",
   "execution_count": null,
   "id": "a3ed0ff3",
   "metadata": {},
   "outputs": [],
   "source": [
    "#Algoritm Workbench Q.3\n",
    "#I am asked to write a loop that displays certain numbers.\n"
   ]
  }
 ],
 "metadata": {
  "kernelspec": {
   "display_name": "Python 3 (ipykernel)",
   "language": "python",
   "name": "python3"
  },
  "language_info": {
   "codemirror_mode": {
    "name": "ipython",
    "version": 3
   },
   "file_extension": ".py",
   "mimetype": "text/x-python",
   "name": "python",
   "nbconvert_exporter": "python",
   "pygments_lexer": "ipython3",
   "version": "3.11.5"
  }
 },
 "nbformat": 4,
 "nbformat_minor": 5
}
