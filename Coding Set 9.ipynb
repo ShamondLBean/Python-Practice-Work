{
 "cells": [
  {
   "cell_type": "code",
   "execution_count": null,
   "id": "3374ade9",
   "metadata": {},
   "outputs": [],
   "source": [
    "#Programming exercise number 2 - capital quiz\n",
    "#I will start by calling the main function\n",
    "def main():\n",
    "#Next I will create a dictionary for the states and their capitals\n",
    "    state_capital = {'Alabama' : 'Montgomery', 'Alaska' : 'Juneau', 'Arizona' : 'Phoenix', 'Arkansas' : 'Little Rock',\n",
    "                    'California' : 'Sacremento', 'Colorado' : 'Denver', 'Connecticut' : 'Hartford', 'Delaware' : 'Dover', \n",
    "                    'Florida' : 'Tallahassee', 'Georiga' : 'Atlanta', 'Hawaii' : 'Honolulu', 'Idaho' : 'Boise',\n",
    "                    'Illinois' : 'Springfield', 'Indiana' : 'Indianapolis', 'Iowa' : 'Des Moines', 'Kansas' : 'Topeka', \n",
    "                    'Kentucky' : 'Frankfurt', 'Louisina' : 'Baton Rouge', 'Maine' : 'Augusta', 'Maryland' : 'Annapolis', \n",
    "                    'Massachusettes' : 'Boston', 'Michigan' : 'Lansing', 'Minnesota' : 'Saint Paul', 'Mississippi' : 'Jackson', \n",
    "                    'Missouri' : 'Jefferson City', 'Montanta' : 'Helena', 'Nebraska' : 'Lincoln', 'Nevada' : 'Carson City', \n",
    "                    'New Hampshire' : 'Concord', 'New Jersey' : 'Trenton', 'New Mexico' : 'Santa Fe', 'New York' : 'Albany', \n",
    "                    'North Carolina' : 'Raleigh', 'North Dakota' : 'Bismark', 'Ohio' : 'Columbus', 'Oklahoma' : \n",
    "                    'Oklahoma City', 'Oregon' : 'Salem', 'Pennsylvania' : 'Harrisburg', 'Rhode Island', 'Providence', \n",
    "                    'South Carolina' : 'Columbia', 'South Dakota' : 'Pierre', 'Tennessee' : 'Nashville', 'Texas' : 'Austin',\n",
    "                    'Utah' : 'Salt Lake City', 'Vermont' : 'Montpelier', 'Virginia' : 'Richmond', 'Washington' : 'Olympia', \n",
    "                    'West Virginia' : 'Charleston', 'Wisconsin' : 'Madison', 'Wyoming' : 'Cheyenne'}\n",
    "#Next I will create variables to count the wrong and write answers\n",
    "    count_right = 0\n",
    "    count_wrong = 0\n",
    "#Next I will use again to control the loop\n",
    "    again = 'y'\n",
    "#Next I will use a while loop for the program\n",
    "    while again.lower() == 'y':\n",
    "        state, capital = state_capital.popitem()\n",
    "#Next I will create the questions for the test\n",
    "        print('What is the capital of', state)\n",
    "        answer = input(': ')\n",
    "#Next I will use the if else statements to count if an answer is right or wrong"
   ]
  }
 ],
 "metadata": {
  "kernelspec": {
   "display_name": "Python 3 (ipykernel)",
   "language": "python",
   "name": "python3"
  },
  "language_info": {
   "codemirror_mode": {
    "name": "ipython",
    "version": 3
   },
   "file_extension": ".py",
   "mimetype": "text/x-python",
   "name": "python",
   "nbconvert_exporter": "python",
   "pygments_lexer": "ipython3",
   "version": "3.11.5"
  }
 },
 "nbformat": 4,
 "nbformat_minor": 5
}
