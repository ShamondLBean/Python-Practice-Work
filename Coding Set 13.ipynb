{
 "cells": [
  {
   "cell_type": "code",
   "execution_count": 3,
   "id": "161d5761",
   "metadata": {},
   "outputs": [],
   "source": [
    "#For this coding set i'll be doing exercise 1 Name and Address\n",
    "#I will start by importing tkinter\n",
    "import tkinter\n",
    "#Next I will create the class for nameaddressgui\n",
    "class NameAddressGUI:\n",
    "#Next I will initialize the attributes\n",
    "    def __init__(self):\n",
    "#Next I will open the main window\n",
    "        self.main_window = tkinter.Tk()\n",
    "#Next I will create the top and bottom frames \n",
    "        self.top_frame = tkinter.Frame(self.main_window)\n",
    "        self.bottom_frame = tkinter.Frame(self.main_window)\n",
    "#Next I will create a string variable\n",
    "        self.address = tkinter.StringVar()\n",
    "#Next I will create the label\n",
    "        self.address_label = tkinter.Label(self.top_frame, textvariable = self.address)\n",
    "#Next I will pack the widget\n",
    "        self.address_label.pack(side = 'left')\n",
    "#Next I will create the buttons for the bottom frame\n",
    "        self.show_button = tkinter.Button(self.bottom_frame, text = 'Show Info', command = self.show_info)\n",
    "        self.quit_button = tkinter.Button(self.bottom_frame, text = 'Quit', command = self.main_window.destroy)\n",
    "#Next I will pack the widget for the buttons\n",
    "        self.show_button.pack(side = 'left')\n",
    "        self.quit_button.pack(side = 'left')\n",
    "#Next I will pack the frames\n",
    "        self.top_frame.pack()\n",
    "        self.bottom_frame.pack()\n",
    "#Next I will do the mainloop\n",
    "        self.main_window.mainloop()\n",
    "#Next I will define show info\n",
    "    def show_info(self):\n",
    "#Next I will create the text for the address\n",
    "        self.text = 'Shamond Bean\\n2098 Anaconda Dr\\nKalamazoo, MI 49048'\n",
    "#Next I will set the address text to the label\n",
    "        self.address.set(self.text)\n",
    "#Next I will create an instance\n",
    "my_info = NameAddressGUI()\n",
    "#Next I will input the correct info for the exercise"
   ]
  },
  {
   "cell_type": "code",
   "execution_count": null,
   "id": "5443cc70",
   "metadata": {},
   "outputs": [],
   "source": []
  }
 ],
 "metadata": {
  "kernelspec": {
   "display_name": "Python 3 (ipykernel)",
   "language": "python",
   "name": "python3"
  },
  "language_info": {
   "codemirror_mode": {
    "name": "ipython",
    "version": 3
   },
   "file_extension": ".py",
   "mimetype": "text/x-python",
   "name": "python",
   "nbconvert_exporter": "python",
   "pygments_lexer": "ipython3",
   "version": "3.11.5"
  }
 },
 "nbformat": 4,
 "nbformat_minor": 5
}
