{
 "cells": [
  {
   "cell_type": "code",
   "execution_count": 3,
   "id": "afd1ccf8",
   "metadata": {},
   "outputs": [],
   "source": [
    "#I will be doing the exercises 1,5,15,16, and algorithm workbench 4 and 5."
   ]
  },
  {
   "cell_type": "code",
   "execution_count": 1,
   "id": "a5316869",
   "metadata": {},
   "outputs": [],
   "source": [
    "#Exercise 1"
   ]
  },
  {
   "cell_type": "code",
   "execution_count": null,
   "id": "b384c6b3",
   "metadata": {},
   "outputs": [],
   "source": [
    "#I am tasked with writing a program that asks the user for the day of the week. \n",
    "#I Will first create the input for the user\n",
    "day = int(input('Please enter a number in the range of 1 to 7: '))"
   ]
  },
  {
   "cell_type": "code",
   "execution_count": null,
   "id": "7a2c2092",
   "metadata": {},
   "outputs": [],
   "source": [
    "#I will use the if-elif-else structure for this program.\n",
    "#My if statement will come first\n",
    "if number == 1:\n",
    "    print('Monday')"
   ]
  },
  {
   "cell_type": "code",
   "execution_count": null,
   "id": "b1442c68",
   "metadata": {},
   "outputs": [],
   "source": [
    "#Next I will use the elif statement for the rest of the days \n",
    "elif number == 2:\n",
    "    print('Tuesday')"
   ]
  },
  {
   "cell_type": "code",
   "execution_count": null,
   "id": "d65d982b",
   "metadata": {},
   "outputs": [],
   "source": [
    "elif number == 3:\n",
    "    print('Wednesday')"
   ]
  },
  {
   "cell_type": "code",
   "execution_count": null,
   "id": "2ce6f800",
   "metadata": {},
   "outputs": [],
   "source": [
    "elif number == 4:\n",
    "    print('Thursday')"
   ]
  },
  {
   "cell_type": "code",
   "execution_count": null,
   "id": "c8c95e30",
   "metadata": {},
   "outputs": [],
   "source": [
    "elif number == 5:\n",
    "    print('Friday')"
   ]
  },
  {
   "cell_type": "code",
   "execution_count": null,
   "id": "c9428356",
   "metadata": {},
   "outputs": [],
   "source": [
    "elif number == 6:\n",
    "    print('Saturday')"
   ]
  },
  {
   "cell_type": "code",
   "execution_count": null,
   "id": "5e9b2a44",
   "metadata": {},
   "outputs": [],
   "source": [
    "elif number == 6:\n",
    "    print('Sunday')"
   ]
  },
  {
   "cell_type": "code",
   "execution_count": null,
   "id": "359c7057",
   "metadata": {},
   "outputs": [],
   "source": [
    "#Next I will use the else statement for numbers entered outside the range.\n",
    "else:\n",
    "    Print('Error, number out of acceptable range.')"
   ]
  },
  {
   "cell_type": "code",
   "execution_count": 9,
   "id": "74e16f06",
   "metadata": {},
   "outputs": [
    {
     "name": "stdout",
     "output_type": "stream",
     "text": [
      "Please enter the objects mass: 20\n"
     ]
    }
   ],
   "source": [
    "#Programming Exercise number 5\n",
    "#I am tasked with writing a program to display if an objects mass is too heavy or too light\n",
    "#First I will start by creating an input for the user\n",
    "mass = float(input('Please enter the objects mass: '))"
   ]
  },
  {
   "cell_type": "code",
   "execution_count": null,
   "id": "b19cdf53",
   "metadata": {},
   "outputs": [],
   "source": [
    "#Next I will calculate the mass of the object with the equation of weight = mass * 9.8\n",
    "weight = mass * 9.8"
   ]
  },
  {
   "cell_type": "code",
   "execution_count": null,
   "id": "6469fe35",
   "metadata": {},
   "outputs": [],
   "source": [
    "#Next I will create the if-elif-else statement to display if the object is too heavy or light.\n",
    "if mass > 500:\n",
    "    print('The object is too heavy.')"
   ]
  },
  {
   "cell_type": "code",
   "execution_count": null,
   "id": "b7de7769",
   "metadata": {},
   "outputs": [],
   "source": [
    "elif mass < 100:\n",
    "    print('The object is too light.')"
   ]
  },
  {
   "cell_type": "code",
   "execution_count": null,
   "id": "1a0be419",
   "metadata": {},
   "outputs": [],
   "source": [
    "else:\n",
    "    print(weight, 'N', Sep='')"
   ]
  },
  {
   "cell_type": "code",
   "execution_count": null,
   "id": "02281ae3",
   "metadata": {},
   "outputs": [],
   "source": []
  },
  {
   "cell_type": "code",
   "execution_count": null,
   "id": "329e62de",
   "metadata": {},
   "outputs": [],
   "source": [
    "#Programming exercise number 15\n",
    "#I am tasked with creating a program that displays leap years\n",
    "#First I will start with the input for the user\n",
    "year = int(input('Enter the year'))"
   ]
  },
  {
   "cell_type": "code",
   "execution_count": null,
   "id": "741de677",
   "metadata": {},
   "outputs": [],
   "source": [
    "#Next I will determine if the year is divisible by 100 and 400\n",
    "#I will do this with the % function and the if-elif-else statement\n",
    "if (year % 400) == 2\n",
    "    print('February', year, 'has 29 days and is a leap year.')"
   ]
  },
  {
   "cell_type": "code",
   "execution_count": null,
   "id": "02293ae1",
   "metadata": {},
   "outputs": [],
   "source": [
    "elif (year % 100) != 0 and (year % 4) == 0\n",
    "    print('February', year, 'has 29 days and is a leap year.')"
   ]
  },
  {
   "cell_type": "code",
   "execution_count": null,
   "id": "ed15fa75",
   "metadata": {},
   "outputs": [],
   "source": [
    "else:\n",
    "    print('February', year, 'has 28 days and is not a leap year.')"
   ]
  },
  {
   "cell_type": "code",
   "execution_count": null,
   "id": "cb7e8bd5",
   "metadata": {},
   "outputs": [],
   "source": [
    "#Programming exercise number 16\n",
    "#I am tasked with creating a flowchart to lead a person through fixing bad wifi\n",
    "#First I will start with the first step of fixing it\n",
    "print('Reboot the computer and try connecting')"
   ]
  },
  {
   "cell_type": "code",
   "execution_count": null,
   "id": "1c479e6e",
   "metadata": {},
   "outputs": [],
   "source": [
    "#Next I will create the user input to ask if that fixed that problem\n",
    "answer = input('Did that fix the problem? ' )"
   ]
  },
  {
   "cell_type": "code",
   "execution_count": null,
   "id": "82795721",
   "metadata": {},
   "outputs": [],
   "source": [
    "#I will now start with my if-else statement for answers if the problem has been fixed.\n",
    "#I will be using the nested decision structure for this problem.\n",
    "#I will direct the user to restart their router\n",
    "if answer == 'Yes' or answer == 'yes' or answer == 'No' or answer == 'no'\n",
    "       if answer == 'No' or answer == 'no'\n",
    "            print('Restart your router and try again')\n",
    "            answer = input('Did that fix the problem? ')"
   ]
  },
  {
   "cell_type": "code",
   "execution_count": null,
   "id": "8e31f2b3",
   "metadata": {},
   "outputs": [],
   "source": [
    "#If that doesn't work I will then direct the user to check the cables between the modem and router\n",
    "if answer == 'Yes' or answer == 'yes' or answer == 'No' or answer == 'no'\n",
    "    if answer == 'No' or answer == 'no'\n",
    "        print('Make sure the cables are plugged in firmly.')\n",
    "        answer = input('Did that fix the problem? ')"
   ]
  },
  {
   "cell_type": "code",
   "execution_count": null,
   "id": "47f91d65",
   "metadata": {},
   "outputs": [],
   "source": [
    "#If that doesn't work I will direct them to move the router to a new location\n",
    "if answer == 'Yes' or answer == 'yes' or answer == 'No' or answer == 'no'\n",
    "    if answer == 'No' or answer == 'no\n",
    "        print('Move the router to a new location and try again')\n",
    "        answer = input('Did that fix the problem?' )"
   ]
  },
  {
   "cell_type": "code",
   "execution_count": null,
   "id": "b1259858",
   "metadata": {},
   "outputs": [],
   "source": [
    "#If that doesn't work instruct user to buy a new router\n",
    "if answer == 'Yes' or answer == 'yes' or answer == 'No' or answer == 'no'\n",
    "    if answer == 'No' or answer == 'no\n",
    "        print('Get a new router')"
   ]
  },
  {
   "cell_type": "code",
   "execution_count": null,
   "id": "9b21434c",
   "metadata": {},
   "outputs": [],
   "source": [
    "#Algorithm Workbench number 4\n",
    "#I am tasked with fixing inproper indentation in code\n",
    "#I will move the print function over to the proper alignment\n",
    "if score >= A_score:\n",
    "    print('Your grade is A')\n",
    "else:"
   ]
  },
  {
   "cell_type": "code",
   "execution_count": null,
   "id": "2e6a0923",
   "metadata": {},
   "outputs": [],
   "source": [
    "if score >= B_score:\n",
    "    print('Your grade is B')\n",
    "else:"
   ]
  },
  {
   "cell_type": "code",
   "execution_count": null,
   "id": "e0297716",
   "metadata": {},
   "outputs": [],
   "source": [
    "if score >= C_score:\n",
    "    print('Your grade is C')\n",
    "else:"
   ]
  },
  {
   "cell_type": "code",
   "execution_count": null,
   "id": "0068208f",
   "metadata": {},
   "outputs": [],
   "source": [
    "if score >= D_score:\n",
    "    print('Your grade is D')\n",
    "else:\n",
    "    print('Your grade is F')"
   ]
  },
  {
   "cell_type": "code",
   "execution_count": null,
   "id": "8506fbe7",
   "metadata": {},
   "outputs": [],
   "source": []
  },
  {
   "cell_type": "code",
   "execution_count": null,
   "id": "31148044",
   "metadata": {},
   "outputs": [],
   "source": []
  },
  {
   "cell_type": "code",
   "execution_count": null,
   "id": "d12b467e",
   "metadata": {},
   "outputs": [],
   "source": []
  }
 ],
 "metadata": {
  "kernelspec": {
   "display_name": "Python 3 (ipykernel)",
   "language": "python",
   "name": "python3"
  },
  "language_info": {
   "codemirror_mode": {
    "name": "ipython",
    "version": 3
   },
   "file_extension": ".py",
   "mimetype": "text/x-python",
   "name": "python",
   "nbconvert_exporter": "python",
   "pygments_lexer": "ipython3",
   "version": "3.11.5"
  }
 },
 "nbformat": 4,
 "nbformat_minor": 5
}
