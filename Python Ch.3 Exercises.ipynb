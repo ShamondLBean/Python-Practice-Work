{
 "cells": [
  {
   "cell_type": "code",
   "execution_count": 3,
   "id": "afd1ccf8",
   "metadata": {},
   "outputs": [],
   "source": [
    "#I will be doing the exercises 1,5,15,17, and algorithm workbench 4 and 5."
   ]
  },
  {
   "cell_type": "code",
   "execution_count": 1,
   "id": "a5316869",
   "metadata": {},
   "outputs": [],
   "source": [
    "#Exercise 1"
   ]
  },
  {
   "cell_type": "code",
   "execution_count": 3,
   "id": "99f195f9",
   "metadata": {},
   "outputs": [],
   "source": [
    "#I am tasked with writing a program that asks the user for the day of the week. \n",
    "#I will first start by assigning the days number variables"
   ]
  },
  {
   "cell_type": "code",
   "execution_count": 7,
   "id": "9509768c",
   "metadata": {},
   "outputs": [],
   "source": [
    "day1 = 'Monday'\n",
    "day2 = 'Tuesday'\n",
    "day3 = 'Wednesday'\n",
    "day4 = 'Thursday'\n",
    "day5 = 'Friday'\n",
    "day6 = 'Saturday'\n",
    "day7 = 'Sunday'"
   ]
  },
  {
   "cell_type": "code",
   "execution_count": null,
   "id": "66883f12",
   "metadata": {},
   "outputs": [],
   "source": []
  }
 ],
 "metadata": {
  "kernelspec": {
   "display_name": "Python 3 (ipykernel)",
   "language": "python",
   "name": "python3"
  },
  "language_info": {
   "codemirror_mode": {
    "name": "ipython",
    "version": 3
   },
   "file_extension": ".py",
   "mimetype": "text/x-python",
   "name": "python",
   "nbconvert_exporter": "python",
   "pygments_lexer": "ipython3",
   "version": "3.11.5"
  }
 },
 "nbformat": 4,
 "nbformat_minor": 5
}
