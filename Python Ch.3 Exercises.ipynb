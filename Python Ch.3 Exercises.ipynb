{
 "cells": [
  {
   "cell_type": "code",
   "execution_count": 3,
   "id": "afd1ccf8",
   "metadata": {},
   "outputs": [],
   "source": [
    "#I will be doing the exercises 1,5,15,17, and algorithm workbench 4 and 5."
   ]
  },
  {
   "cell_type": "code",
   "execution_count": 1,
   "id": "a5316869",
   "metadata": {},
   "outputs": [],
   "source": [
    "#Exercise 1"
   ]
  },
  {
   "cell_type": "code",
   "execution_count": null,
   "id": "b384c6b3",
   "metadata": {},
   "outputs": [],
   "source": [
    "#I am tasked with writing a program that asks the user for the day of the week. \n",
    "#I Will first create the input for the user\n",
    "day = int(input('Please enter a number in the range of 1 to 7: '))"
   ]
  },
  {
   "cell_type": "code",
   "execution_count": null,
   "id": "7a2c2092",
   "metadata": {},
   "outputs": [],
   "source": [
    "#I will use the if-elif-else structure for this program.\n",
    "#My if statement will come first\n",
    "if number == 1:\n",
    "    print('Monday')"
   ]
  },
  {
   "cell_type": "code",
   "execution_count": null,
   "id": "b1442c68",
   "metadata": {},
   "outputs": [],
   "source": [
    "#Next I will use the elif statement for the rest of the days \n",
    "elif number == 2:\n",
    "    print('Tuesday')"
   ]
  },
  {
   "cell_type": "code",
   "execution_count": null,
   "id": "d65d982b",
   "metadata": {},
   "outputs": [],
   "source": [
    "elif number == 3:\n",
    "    print('Wednesday')"
   ]
  },
  {
   "cell_type": "code",
   "execution_count": null,
   "id": "2ce6f800",
   "metadata": {},
   "outputs": [],
   "source": [
    "elif number == 4:\n",
    "    print('Thursday')"
   ]
  },
  {
   "cell_type": "code",
   "execution_count": null,
   "id": "c8c95e30",
   "metadata": {},
   "outputs": [],
   "source": [
    "elif number == 5:\n",
    "    print('Friday')"
   ]
  },
  {
   "cell_type": "code",
   "execution_count": null,
   "id": "c9428356",
   "metadata": {},
   "outputs": [],
   "source": [
    "elif number == 6:\n",
    "    print('Saturday')"
   ]
  },
  {
   "cell_type": "code",
   "execution_count": null,
   "id": "5e9b2a44",
   "metadata": {},
   "outputs": [],
   "source": [
    "elif number == 6:\n",
    "    print('Sunday')"
   ]
  },
  {
   "cell_type": "code",
   "execution_count": null,
   "id": "359c7057",
   "metadata": {},
   "outputs": [],
   "source": [
    "#Next I will use the else statement for numbers entered outside the range.\n",
    "else:\n",
    "    Print('Error, number out of acceptable range.')"
   ]
  },
  {
   "cell_type": "code",
   "execution_count": null,
   "id": "74e16f06",
   "metadata": {},
   "outputs": [],
   "source": []
  },
  {
   "cell_type": "code",
   "execution_count": null,
   "id": "b19cdf53",
   "metadata": {},
   "outputs": [],
   "source": []
  },
  {
   "cell_type": "code",
   "execution_count": null,
   "id": "6469fe35",
   "metadata": {},
   "outputs": [],
   "source": []
  }
 ],
 "metadata": {
  "kernelspec": {
   "display_name": "Python 3 (ipykernel)",
   "language": "python",
   "name": "python3"
  },
  "language_info": {
   "codemirror_mode": {
    "name": "ipython",
    "version": 3
   },
   "file_extension": ".py",
   "mimetype": "text/x-python",
   "name": "python",
   "nbconvert_exporter": "python",
   "pygments_lexer": "ipython3",
   "version": "3.11.5"
  }
 },
 "nbformat": 4,
 "nbformat_minor": 5
}
