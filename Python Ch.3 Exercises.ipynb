{
 "cells": [
  {
   "cell_type": "code",
   "execution_count": 3,
   "id": "afd1ccf8",
   "metadata": {},
   "outputs": [],
   "source": [
    "#I will be doing the exercises 1,5,15,16, and algorithm workbench 4 and 5."
   ]
  },
  {
   "cell_type": "code",
   "execution_count": 1,
   "id": "a5316869",
   "metadata": {},
   "outputs": [],
   "source": [
    "#Exercise 1"
   ]
  },
  {
   "cell_type": "code",
   "execution_count": null,
   "id": "b384c6b3",
   "metadata": {},
   "outputs": [],
   "source": [
    "#I am tasked with writing a program that asks the user for the day of the week. \n",
    "#I Will first create the input for the user\n",
    "day = int(input('Please enter a number in the range of 1 to 7: '))"
   ]
  },
  {
   "cell_type": "code",
   "execution_count": null,
   "id": "7a2c2092",
   "metadata": {},
   "outputs": [],
   "source": [
    "#I will use the if-elif-else structure for this program.\n",
    "#My if statement will come first\n",
    "if number == 1:\n",
    "    print('Monday')"
   ]
  },
  {
   "cell_type": "code",
   "execution_count": null,
   "id": "b1442c68",
   "metadata": {},
   "outputs": [],
   "source": [
    "#Next I will use the elif statement for the rest of the days \n",
    "elif number == 2:\n",
    "    print('Tuesday')"
   ]
  },
  {
   "cell_type": "code",
   "execution_count": null,
   "id": "d65d982b",
   "metadata": {},
   "outputs": [],
   "source": [
    "elif number == 3:\n",
    "    print('Wednesday')"
   ]
  },
  {
   "cell_type": "code",
   "execution_count": null,
   "id": "2ce6f800",
   "metadata": {},
   "outputs": [],
   "source": [
    "elif number == 4:\n",
    "    print('Thursday')"
   ]
  },
  {
   "cell_type": "code",
   "execution_count": null,
   "id": "c8c95e30",
   "metadata": {},
   "outputs": [],
   "source": [
    "elif number == 5:\n",
    "    print('Friday')"
   ]
  },
  {
   "cell_type": "code",
   "execution_count": null,
   "id": "c9428356",
   "metadata": {},
   "outputs": [],
   "source": [
    "elif number == 6:\n",
    "    print('Saturday')"
   ]
  },
  {
   "cell_type": "code",
   "execution_count": null,
   "id": "5e9b2a44",
   "metadata": {},
   "outputs": [],
   "source": [
    "elif number == 6:\n",
    "    print('Sunday')"
   ]
  },
  {
   "cell_type": "code",
   "execution_count": null,
   "id": "359c7057",
   "metadata": {},
   "outputs": [],
   "source": [
    "#Next I will use the else statement for numbers entered outside the range.\n",
    "else:\n",
    "    Print('Error, number out of acceptable range.')"
   ]
  },
  {
   "cell_type": "code",
   "execution_count": 9,
   "id": "74e16f06",
   "metadata": {},
   "outputs": [
    {
     "name": "stdout",
     "output_type": "stream",
     "text": [
      "Please enter the objects mass: 20\n"
     ]
    }
   ],
   "source": [
    "#Programming Exercise number 5\n",
    "#I am tasked with writing a program to display if an objects mass is too heavy or too light\n",
    "#First I will start by creating an input for the user\n",
    "mass = float(input('Please enter the objects mass: '))"
   ]
  },
  {
   "cell_type": "code",
   "execution_count": null,
   "id": "b19cdf53",
   "metadata": {},
   "outputs": [],
   "source": [
    "#Next I will calculate the mass of the object with the equation of weight = mass * 9.8\n",
    "weight = mass * 9.8"
   ]
  },
  {
   "cell_type": "code",
   "execution_count": null,
   "id": "6469fe35",
   "metadata": {},
   "outputs": [],
   "source": [
    "#Next I will create the if-elif-else statement to display if the object is too heavy or light.\n",
    "if mass > 500:\n",
    "    print('The object is too heavy.')"
   ]
  },
  {
   "cell_type": "code",
   "execution_count": null,
   "id": "e65f90a5",
   "metadata": {},
   "outputs": [],
   "source": [
    "elif mass < 100:\n",
    "    print('The object is too light.')"
   ]
  },
  {
   "cell_type": "code",
   "execution_count": null,
   "id": "252b6b2d",
   "metadata": {},
   "outputs": [],
   "source": [
    "else:\n",
    "    print(weight, 'N', Sep='')"
   ]
  },
  {
   "cell_type": "code",
   "execution_count": null,
   "id": "3b130bec",
   "metadata": {},
   "outputs": [],
   "source": [
    "#Programming exercise number 15\n",
    "#I am tasked with creating a program that displays leap years\n",
    "#First I will start with the input for the user\n",
    "year = int(input('Enter the year'))"
   ]
  },
  {
   "cell_type": "code",
   "execution_count": null,
   "id": "04548e99",
   "metadata": {},
   "outputs": [],
   "source": []
  }
 ],
 "metadata": {
  "kernelspec": {
   "display_name": "Python 3 (ipykernel)",
   "language": "python",
   "name": "python3"
  },
  "language_info": {
   "codemirror_mode": {
    "name": "ipython",
    "version": 3
   },
   "file_extension": ".py",
   "mimetype": "text/x-python",
   "name": "python",
   "nbconvert_exporter": "python",
   "pygments_lexer": "ipython3",
   "version": "3.11.5"
  }
 },
 "nbformat": 4,
 "nbformat_minor": 5
}
