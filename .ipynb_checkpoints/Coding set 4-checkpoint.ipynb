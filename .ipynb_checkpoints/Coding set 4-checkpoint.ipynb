{
 "cells": [
  {
   "cell_type": "code",
   "execution_count": 2,
   "id": "e0b662c0",
   "metadata": {},
   "outputs": [
    {
     "name": "stdout",
     "output_type": "stream",
     "text": [
      "0\n",
      "1\n",
      "2\n",
      "3\n",
      "4\n"
     ]
    }
   ],
   "source": [
    "for num in range(5):\n",
    "    print(num)"
   ]
  },
  {
   "cell_type": "code",
   "execution_count": 4,
   "id": "1336b0ef",
   "metadata": {},
   "outputs": [
    {
     "name": "stdout",
     "output_type": "stream",
     "text": [
      "0\n",
      "1\n",
      "2\n",
      "3\n",
      "4\n",
      "5\n",
      "6\n",
      "7\n",
      "8\n",
      "9\n"
     ]
    }
   ],
   "source": [
    "for num in range(10):\n",
    "    print(num)"
   ]
  },
  {
   "cell_type": "code",
   "execution_count": 5,
   "id": "19c8feeb",
   "metadata": {},
   "outputs": [
    {
     "name": "stdout",
     "output_type": "stream",
     "text": [
      "Hello World\n",
      "Hello World\n",
      "Hello World\n"
     ]
    }
   ],
   "source": [
    "for x in range(3):\n",
    "    print('Hello World')"
   ]
  },
  {
   "cell_type": "code",
   "execution_count": 6,
   "id": "86ff716f",
   "metadata": {},
   "outputs": [
    {
     "name": "stdout",
     "output_type": "stream",
     "text": [
      "3\n",
      "4\n",
      "5\n",
      "6\n",
      "7\n",
      "8\n",
      "9\n"
     ]
    }
   ],
   "source": [
    "for num in range(3, 10):\n",
    "    print(num)"
   ]
  },
  {
   "cell_type": "code",
   "execution_count": 8,
   "id": "5a313fb3",
   "metadata": {},
   "outputs": [
    {
     "name": "stdout",
     "output_type": "stream",
     "text": [
      "1\n",
      "6\n",
      "11\n",
      "16\n",
      "21\n"
     ]
    }
   ],
   "source": [
    "for num in range(1, 25, 5):\n",
    "    print(num)"
   ]
  },
  {
   "cell_type": "code",
   "execution_count": 10,
   "id": "39406baf",
   "metadata": {},
   "outputs": [
    {
     "name": "stdout",
     "output_type": "stream",
     "text": [
      "number\tSquare\n"
     ]
    }
   ],
   "source": [
    "print('Number\\tSquare')"
   ]
  },
  {
   "cell_type": "code",
   "execution_count": 11,
   "id": "250c28c0",
   "metadata": {},
   "outputs": [
    {
     "name": "stdout",
     "output_type": "stream",
     "text": [
      "--------------\n"
     ]
    }
   ],
   "source": [
    "print('--------------')"
   ]
  },
  {
   "cell_type": "code",
   "execution_count": 26,
   "id": "6c66d50f",
   "metadata": {},
   "outputs": [
    {
     "name": "stdout",
     "output_type": "stream",
     "text": [
      "1\t1\n",
      "2\t4\n",
      "3\t9\n",
      "4\t16\n",
      "5\t25\n",
      "6\t36\n",
      "7\t49\n",
      "8\t64\n",
      "9\t81\n",
      "10\t100\n"
     ]
    }
   ],
   "source": [
    "for number in range(1, 11):\n",
    "    square = number**2\n",
    "    print(f'{number}\\t{square}')"
   ]
  },
  {
   "cell_type": "code",
   "execution_count": 21,
   "id": "2948640d",
   "metadata": {},
   "outputs": [],
   "source": [
    "start_speed = 60\n",
    "end_speed = 131\n",
    "increment = 10\n",
    "conversion_rate = 0.6214"
   ]
  },
  {
   "cell_type": "code",
   "execution_count": 22,
   "id": "8e7c4b2d",
   "metadata": {},
   "outputs": [
    {
     "name": "stdout",
     "output_type": "stream",
     "text": [
      "KPH\tMPH\n"
     ]
    }
   ],
   "source": [
    "print('KPH\\tMPH')"
   ]
  },
  {
   "cell_type": "code",
   "execution_count": 23,
   "id": "3a0ec59a",
   "metadata": {},
   "outputs": [
    {
     "name": "stdout",
     "output_type": "stream",
     "text": [
      "--------------\n"
     ]
    }
   ],
   "source": [
    "print('--------------')"
   ]
  },
  {
   "cell_type": "code",
   "execution_count": 25,
   "id": "26e4afd7",
   "metadata": {},
   "outputs": [
    {
     "name": "stdout",
     "output_type": "stream",
     "text": [
      "60\t37.284\n",
      "70\t43.498\n",
      "80\t49.711999999999996\n",
      "90\t55.925999999999995\n",
      "100\t62.13999999999999\n",
      "110\t68.354\n",
      "120\t74.568\n",
      "130\t80.782\n"
     ]
    }
   ],
   "source": [
    "for kph in range(start_speed, end_speed, increment):\n",
    "    mph = kph * conversion_rate\n",
    "    print(f'{kph}\\t{mph}')"
   ]
  },
  {
   "cell_type": "code",
   "execution_count": 28,
   "id": "a5a550b9",
   "metadata": {},
   "outputs": [
    {
     "name": "stdout",
     "output_type": "stream",
     "text": [
      "This program displays a list of numbers. \n",
      "(Starting at 1) and their squares \n"
     ]
    }
   ],
   "source": [
    "print('This program displays a list of numbers. ')\n",
    "print('(Starting at 1) and their squares ')"
   ]
  },
  {
   "cell_type": "code",
   "execution_count": 34,
   "id": "2a5e920a",
   "metadata": {},
   "outputs": [
    {
     "name": "stdout",
     "output_type": "stream",
     "text": [
      "How high should I go? 12\n"
     ]
    }
   ],
   "source": [
    "end = int(input('How high should I go? '))"
   ]
  },
  {
   "cell_type": "code",
   "execution_count": 35,
   "id": "770a184c",
   "metadata": {},
   "outputs": [
    {
     "name": "stdout",
     "output_type": "stream",
     "text": [
      "\n",
      "Number\tSquare\n",
      "----------------\n"
     ]
    }
   ],
   "source": [
    "print()\n",
    "print('Number\\tSquare')\n",
    "print('------------------')"
   ]
  },
  {
   "cell_type": "code",
   "execution_count": 36,
   "id": "2bb05440",
   "metadata": {},
   "outputs": [
    {
     "name": "stdout",
     "output_type": "stream",
     "text": [
      "1\t1\n",
      "2\t4\n",
      "3\t9\n",
      "4\t16\n",
      "5\t25\n",
      "6\t36\n",
      "7\t49\n",
      "8\t64\n",
      "9\t81\n",
      "10\t100\n",
      "11\t121\n",
      "12\t144\n"
     ]
    }
   ],
   "source": [
    "for number in range(1, end + 1):\n",
    "    square = number**2\n",
    "    print(f'{number}\\t{square}')"
   ]
  },
  {
   "cell_type": "code",
   "execution_count": 38,
   "id": "b51a5076",
   "metadata": {},
   "outputs": [
    {
     "name": "stdout",
     "output_type": "stream",
     "text": [
      "15\n",
      "12\n",
      "9\n",
      "6\n",
      "3\n",
      "0\n",
      "-3\n"
     ]
    }
   ],
   "source": [
    "for num in range(15, -5, -3):\n",
    "    print(num)"
   ]
  },
  {
   "cell_type": "code",
   "execution_count": 39,
   "id": "ba213efa",
   "metadata": {},
   "outputs": [
    {
     "name": "stdout",
     "output_type": "stream",
     "text": [
      "I love to code!\n",
      "I love to code!\n",
      "I love to code!\n",
      "I love to code!\n",
      "I love to code!\n",
      "I love to code!\n"
     ]
    }
   ],
   "source": [
    "for x in range(6):\n",
    "    print('I love to code!')"
   ]
  },
  {
   "cell_type": "code",
   "execution_count": 44,
   "id": "cf0ed498",
   "metadata": {},
   "outputs": [],
   "source": [
    "MAX = 5\n",
    "total = 0.0"
   ]
  },
  {
   "cell_type": "code",
   "execution_count": 45,
   "id": "e8e56f63",
   "metadata": {},
   "outputs": [
    {
     "name": "stdout",
     "output_type": "stream",
     "text": [
      "This program calculates the sum of 5 numbers you will enter\n"
     ]
    }
   ],
   "source": [
    "print('This program calculates the sum of ', end='')\n",
    "print(f'{MAX} numbers you will enter')"
   ]
  },
  {
   "cell_type": "code",
   "execution_count": 47,
   "id": "a38e0af4",
   "metadata": {},
   "outputs": [
    {
     "name": "stdout",
     "output_type": "stream",
     "text": [
      "Please enter a number: 1\n",
      "Please enter a number: 2\n",
      "Please enter a number: 3\n",
      "Please enter a number: 4\n",
      "Please enter a number: 5\n"
     ]
    }
   ],
   "source": [
    "for counter in range(MAX):\n",
    "    number = int(input('Please enter a number: '))\n",
    "    total = total + number\n",
    "    "
   ]
  },
  {
   "cell_type": "code",
   "execution_count": 48,
   "id": "5243914e",
   "metadata": {},
   "outputs": [
    {
     "name": "stdout",
     "output_type": "stream",
     "text": [
      "The total is 18.0.\n"
     ]
    }
   ],
   "source": [
    "print(f'The total is {total}.')"
   ]
  },
  {
   "cell_type": "code",
   "execution_count": 51,
   "id": "53460296",
   "metadata": {},
   "outputs": [
    {
     "name": "stdout",
     "output_type": "stream",
     "text": [
      "0\n",
      "10\n",
      "20\n",
      "30\n",
      "40\n",
      "50\n",
      "60\n",
      "70\n",
      "80\n",
      "90\n",
      "100\n"
     ]
    }
   ],
   "source": [
    "#Algorithm Workbench Q.3\n",
    "#I am asked to write a loop that displays certain numbers.\n",
    "#I will first create the for loop \n",
    "for num in range(0, 101, 10):\n",
    "    #Next I will print numbers\n",
    "    print(num)\n"
   ]
  },
  {
   "cell_type": "code",
   "execution_count": null,
   "id": "7465d4c8",
   "metadata": {},
   "outputs": [],
   "source": [
    "#Algorithm Workbench Q.5\n",
    "#I will start by creating the variables for denominator and total\n",
    "denominator = 30\n",
    "total = 0\n",
    "#Next will use the for loop and use numerator as the target variable\n",
    "for numerator in range(1, 31):\n",
    "    #Next I will create a variable for value and give total a value\n",
    "    value = numerator / denominator\n",
    "    total = total + value\n",
    "    #Next I will crreate the operator for denominator\n",
    "    "
   ]
  }
 ],
 "metadata": {
  "kernelspec": {
   "display_name": "Python 3 (ipykernel)",
   "language": "python",
   "name": "python3"
  },
  "language_info": {
   "codemirror_mode": {
    "name": "ipython",
    "version": 3
   },
   "file_extension": ".py",
   "mimetype": "text/x-python",
   "name": "python",
   "nbconvert_exporter": "python",
   "pygments_lexer": "ipython3",
   "version": "3.11.5"
  }
 },
 "nbformat": 4,
 "nbformat_minor": 5
}
