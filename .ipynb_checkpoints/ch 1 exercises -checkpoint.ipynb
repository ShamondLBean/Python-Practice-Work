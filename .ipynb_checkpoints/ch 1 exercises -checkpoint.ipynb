{
 "cells": [
  {
   "cell_type": "markdown",
   "id": "87037c79",
   "metadata": {},
   "source": [
    "# Chapter 1 excercise\n",
    "problems 1,3,5"
   ]
  },
  {
   "cell_type": "markdown",
   "id": "af4937a9",
   "metadata": {},
   "source": []
  },
  {
   "cell_type": "markdown",
   "id": "183bb57f",
   "metadata": {},
   "source": [
    "## Excercise 1"
   ]
  },
  {
   "cell_type": "code",
   "execution_count": 1,
   "id": "3702a425",
   "metadata": {},
   "outputs": [
    {
     "name": "stdout",
     "output_type": "stream",
     "text": [
      "This is a test of the Python Interpreter\n"
     ]
    }
   ],
   "source": [
    "print('This is a test of the Python Interpreter')"
   ]
  },
  {
   "cell_type": "markdown",
   "id": "6b4011d1",
   "metadata": {},
   "source": [
    "## Exercise 3"
   ]
  },
  {
   "cell_type": "code",
   "execution_count": 5,
   "id": "655da324",
   "metadata": {},
   "outputs": [
    {
     "name": "stdout",
     "output_type": "stream",
     "text": [
      "11=00001011\n"
     ]
    }
   ],
   "source": [
    "print('11=00001011')"
   ]
  },
  {
   "cell_type": "code",
   "execution_count": 3,
   "id": "bcb6c28e",
   "metadata": {},
   "outputs": [
    {
     "name": "stdout",
     "output_type": "stream",
     "text": [
      "65=01000001\n"
     ]
    }
   ],
   "source": [
    "print('65=01000001')"
   ]
  },
  {
   "cell_type": "code",
   "execution_count": 7,
   "id": "9fe26714",
   "metadata": {},
   "outputs": [
    {
     "name": "stdout",
     "output_type": "stream",
     "text": [
      "100=01100100\n"
     ]
    }
   ],
   "source": [
    "print('100=01100100')"
   ]
  },
  {
   "cell_type": "code",
   "execution_count": 8,
   "id": "e1879287",
   "metadata": {},
   "outputs": [
    {
     "name": "stdout",
     "output_type": "stream",
     "text": [
      "255=11111111\n"
     ]
    }
   ],
   "source": [
    "print('255=11111111')"
   ]
  },
  {
   "cell_type": "markdown",
   "id": "517c7a25",
   "metadata": {},
   "source": [
    "## Exercise 5"
   ]
  },
  {
   "cell_type": "code",
   "execution_count": 9,
   "id": "f0caefe1",
   "metadata": {},
   "outputs": [
    {
     "name": "stdout",
     "output_type": "stream",
     "text": [
      "Hello my name is Shamond or 83, 72, 65, 77, 79, 78, 68\n"
     ]
    }
   ],
   "source": [
    "print('Hello my name is Shamond or 83, 72, 65, 77, 79, 78, 68')"
   ]
  },
  {
   "cell_type": "code",
   "execution_count": null,
   "id": "f64cb050",
   "metadata": {},
   "outputs": [],
   "source": []
  }
 ],
 "metadata": {
  "kernelspec": {
   "display_name": "Python 3 (ipykernel)",
   "language": "python",
   "name": "python3"
  },
  "language_info": {
   "codemirror_mode": {
    "name": "ipython",
    "version": 3
   },
   "file_extension": ".py",
   "mimetype": "text/x-python",
   "name": "python",
   "nbconvert_exporter": "python",
   "pygments_lexer": "ipython3",
   "version": "3.11.5"
  }
 },
 "nbformat": 4,
 "nbformat_minor": 5
}
