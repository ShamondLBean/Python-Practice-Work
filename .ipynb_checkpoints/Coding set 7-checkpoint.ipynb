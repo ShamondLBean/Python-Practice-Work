{
 "cells": [
  {
   "cell_type": "code",
   "execution_count": 4,
   "id": "0c04e908",
   "metadata": {},
   "outputs": [
    {
     "name": "stdout",
     "output_type": "stream",
     "text": [
      "[0, 1, 2, 3, 4]\n"
     ]
    }
   ],
   "source": [
    "numbers = list(range(5))\n",
    "print(numbers)"
   ]
  },
  {
   "cell_type": "code",
   "execution_count": 5,
   "id": "30ba0708",
   "metadata": {},
   "outputs": [
    {
     "name": "stdout",
     "output_type": "stream",
     "text": [
      "[5, 5, 5, 5, 5]\n"
     ]
    }
   ],
   "source": [
    "numbers = [5] * 5\n",
    "print(numbers)"
   ]
  },
  {
   "cell_type": "code",
   "execution_count": 6,
   "id": "1fdabf59",
   "metadata": {},
   "outputs": [
    {
     "name": "stdout",
     "output_type": "stream",
     "text": [
      "Einstein\n",
      "Newton\n",
      "Copernicus\n",
      "Kelper\n"
     ]
    }
   ],
   "source": [
    "#I will be starting with Algorithm Workbench Q.1\n",
    "#I will start by creating my list of names.\n",
    "names = ['Einstein', 'Newton', 'Copernicus', 'Kelper']\n",
    "#Next I will create the for loop\n",
    "for index in range(len(names)):\n",
    "    #Next I will print the list\n",
    "    print(names[index])"
   ]
  },
  {
   "cell_type": "code",
   "execution_count": 7,
   "id": "a82dad6b",
   "metadata": {},
   "outputs": [
    {
     "name": "stdout",
     "output_type": "stream",
     "text": [
      "Jerome\n",
      "Franklin\n",
      "Teddy\n",
      "Leon\n"
     ]
    }
   ],
   "source": [
    "#Next I will be doing Algorithm Workbench Q.2\n",
    "#I will start by creating the list of names\\\n",
    "names = ['Jerome', 'Franklin', 'Teddy', 'Leon']\n",
    "#Next I will create the for loop for the names\n",
    "for index in range(len(names)):\n",
    "    \n",
    "    #Last I will print the list of names with the index in it\n",
    "    print(names[index])"
   ]
  },
  {
   "cell_type": "code",
   "execution_count": 9,
   "id": "d30df7f3",
   "metadata": {},
   "outputs": [
    {
     "name": "stdout",
     "output_type": "stream",
     "text": [
      "Enter the sales for day # 1\n",
      "34\n",
      "Enter the sales for day # 2\n",
      "27\n",
      "Enter the sales for day # 3\n",
      "45\n",
      "Enter the sales for day # 4\n",
      "67\n",
      "Enter the sales for day # 5\n",
      "89\n",
      "Enter the sales for day # 6\n",
      "121\n",
      "Enter the sales for day # 7\n",
      "98\n",
      "\n",
      "Total sales for this week is 481.0.\n"
     ]
    }
   ],
   "source": [
    "#Next I will be doing Programming Exercise Q.1\n",
    "#First I will start by creating a variable for the number of days in a week\n",
    "days_in_week = 7\n",
    "#Next I will call on the main function\n",
    "def main():\n",
    "    #Next I will give a value to the total variable\n",
    "    total = 0.0\n",
    "    #Next I will create a list for the sales, I will use the repetition operator as well\n",
    "    sales_list = [0] * days_in_week\n",
    "    #Next I will create the for loop\n",
    "    for index in range(days_in_week):\n",
    "        #Next I will create the input for the user\n",
    "        print('Enter the sales for day #', index + 1)\n",
    "        sales_list[index] = float(input())\n",
    "    #Next I will call the print function again \n",
    "    print()\n",
    "    #Next I will calculate the total sales for the week\n",
    "    for sale in sales_list:\n",
    "        total += sale\n",
    "    #Next I will print the total sales for the week\n",
    "    print(f'Total sales for this week is {total}.')  \n",
    "#Lastly I will call the main function again\n",
    "main()"
   ]
  },
  {
   "cell_type": "code",
   "execution_count": 12,
   "id": "42d57b68",
   "metadata": {},
   "outputs": [
    {
     "data": {
      "image/png": "[encoded data removed]",
      "text/plain": [
       "<Figure size 640x480 with 1 Axes>"
      ]
     },
     "metadata": {},
     "output_type": "display_data"
    }
   ],
   "source": [
    "#Next I will be doing Programming Exercise Q.14\n",
    "#I will start by importing matplotlib \n",
    "import matplotlib.pyplot as plt\n",
    "#Next I will call the main function\n",
    "def main():\n",
    "    #Next I will list the expenses\n",
    "    expenses = [1260, 210, 621, 311, 432, 269]\n",
    "    #Next I will put the expenses in catagories\n",
    "    categories = ['Rent', 'Gas', 'Food', 'Clothing', 'Car payment', 'Misc']\n",
    "    #Next I will be creating the pie chart with the imported chart\n",
    "    plt.pie(expenses, labels=categories)\n",
    "    plt.title('Expense Chart')\n",
    "    plt.show()\n",
    "#Last I will call the main function again\n",
    "main()"
   ]
  },
  {
   "cell_type": "code",
   "execution_count": 13,
   "id": "c60a604e",
   "metadata": {},
   "outputs": [
    {
     "name": "stdout",
     "output_type": "stream",
     "text": [
      "Enter the total rainfall for the month # 1\n",
      "5.1\n",
      "Enter the total rainfall for the month # 2\n",
      "2.3\n",
      "Enter the total rainfall for the month # 3\n",
      "3.4\n",
      "Enter the total rainfall for the month # 4\n",
      "1.2\n",
      "Enter the total rainfall for the month # 5\n",
      "6.7\n",
      "Enter the total rainfall for the month # 6\n",
      "2.4\n",
      "Enter the total rainfall for the month # 7\n",
      "2.7\n",
      "Enter the total rainfall for the month # 8\n",
      "5.4\n",
      "Enter the total rainfall for the month # 9\n",
      "1.8\n",
      "Enter the total rainfall for the month # 10\n",
      "3.6\n",
      "Enter the total rainfall for the month # 11\n",
      "2.4\n",
      "Enter the total rainfall for the month # 12\n",
      "8.1\n",
      "\n",
      "The total rainfall this year is: {total}\n",
      "\n",
      "\n",
      "\n",
      "The month with the least rainfall is: Month 4\n",
      "Minimum Rainfall: 1.2\n",
      "\n",
      "The month with the most rainfall is: Month 12\n",
      "Maximum Rainfall: 8.1\n",
      "\n"
     ]
    }
   ],
   "source": [
    "#Next I will be doing programming exercise Q.3\n",
    "#I will start by creating a variable for months in a year\n",
    "total_months = 12\n",
    "#Next I will call the main function\n",
    "def main():\n",
    "    #Next I will give the total variable a value\n",
    "    total = 0.0\n",
    "    #Next I will create a list for the monthly rainfall\n",
    "    monthly_rainfall = [0] * total_months\n",
    "    #Next I will create the loop using for\n",
    "    for index in range(total_months):\n",
    "        #Next I will create the input for the user\n",
    "        print('Enter the total rainfall for the month #', index + 1)\n",
    "        amount = float(input())\n",
    "        monthly_rainfall[index] = amount\n",
    "    #Next I will call on the print function again\n",
    "    print()\n",
    "    #Next I will create another for loop\n",
    "    for value in monthly_rainfall:\n",
    "        total += value\n",
    "    #Next I will print the annual rainfall in a year\n",
    "    print('The total rainfall this year is: {total}')\n",
    "    #Next I will call the print function again\n",
    "    print()\n",
    "    average = total / total_months\n",
    "    #Next I will call the print function again\n",
    "    print()\n",
    "    max_rainfall = max(monthly_rainfall)\n",
    "    #Next I will call the print function again\n",
    "    min_rainfall = min(monthly_rainfall)\n",
    "    #Next I will call the print function again\n",
    "    print()\n",
    "    #Next I will create another for loop\n",
    "    for index in range(total_months):\n",
    "        #I will use the if elif structure for the min and max rainfall on the list\n",
    "        if monthly_rainfall[index] == max_rainfall:\n",
    "            #Next I will print if the month with the max rainfall\n",
    "            print('The month with the most rainfall is: Month', index + 1)\n",
    "            print('Maximum Rainfall:', max_rainfall)\n",
    "            print()\n",
    "        #Next I will use the elif function for the minimum rainfall\n",
    "        elif monthly_rainfall[index] == min_rainfall:\n",
    "            print('The month with the least rainfall is: Month', index + 1)\n",
    "            print('Minimum Rainfall:', min_rainfall)\n",
    "            print()\n",
    "#Lastly I will call on the main function\n",
    "main()"
   ]
  },
  {
   "cell_type": "code",
   "execution_count": null,
   "id": "41866104",
   "metadata": {},
   "outputs": [],
   "source": [
    "#Lastly I will be doing programming exercise q.2\n",
    "#I will start by importing random\n",
    "import random\n",
    "#Next I will create the number lot\n",
    "number_lot = 7\n",
    "#Next I will call the main function\n",
    "def main():\n",
    "    \n",
    "    "
   ]
  }
 ],
 "metadata": {
  "kernelspec": {
   "display_name": "Python 3 (ipykernel)",
   "language": "python",
   "name": "python3"
  },
  "language_info": {
   "codemirror_mode": {
    "name": "ipython",
    "version": 3
   },
   "file_extension": ".py",
   "mimetype": "text/x-python",
   "name": "python",
   "nbconvert_exporter": "python",
   "pygments_lexer": "ipython3",
   "version": "3.11.5"
  }
 },
 "nbformat": 4,
 "nbformat_minor": 5
}
