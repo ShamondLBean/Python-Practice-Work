{
 "cells": [
  {
   "cell_type": "code",
   "execution_count": 1,
   "id": "c86fdeaa",
   "metadata": {},
   "outputs": [],
   "source": [
    "#Algorithm Workbench Q.1\n",
    "if choice.upper() == 'Y'\n",
    "#I reached this answer by calling on upper after my choice function, in a string the loop would iterate again as long as 'Y' is\n",
    "#Entered by the user"
   ]
  },
  {
   "cell_type": "code",
   "execution_count": 5,
   "id": "9ab67693",
   "metadata": {},
   "outputs": [
    {
     "name": "stdout",
     "output_type": "stream",
     "text": [
      "The amount of lowercase letters is 0\n"
     ]
    }
   ],
   "source": [
    "#Algorithm Workbench Q.4\n",
    "#I will start by creating my string\n",
    "my_string = 'Hello my name is Shamond.'\n",
    "def main():        \n",
    "#Next I will create a variable to keep count\n",
    "    count = 0\n",
    "#Next I will create my for loop to and use the ch function to count my characters\n",
    "    for ch in my_string:\n",
    "#Next I will use the if function so my lowercase letters can be counted\n",
    "        if my_string.islower():\n",
    "            count + 1\n",
    "#Next I will print the result\n",
    "    print(f'The amount of lowercase letters is {count}')\n",
    "#Lastly I will call the main function again\n",
    "main()\n",
    "        \n",
    "        \n"
   ]
  },
  {
   "cell_type": "code",
   "execution_count": 3,
   "id": "cca6bf97",
   "metadata": {},
   "outputs": [],
   "source": [
    "#Programming Exercise Q.1\n",
    "#First I will start off with my main function\n",
    "def main():\n",
    "    "
   ]
  },
  {
   "cell_type": "code",
   "execution_count": null,
   "id": "045c35a1",
   "metadata": {},
   "outputs": [],
   "source": []
  }
 ],
 "metadata": {
  "kernelspec": {
   "display_name": "Python 3 (ipykernel)",
   "language": "python",
   "name": "python3"
  },
  "language_info": {
   "codemirror_mode": {
    "name": "ipython",
    "version": 3
   },
   "file_extension": ".py",
   "mimetype": "text/x-python",
   "name": "python",
   "nbconvert_exporter": "python",
   "pygments_lexer": "ipython3",
   "version": "3.11.5"
  }
 },
 "nbformat": 4,
 "nbformat_minor": 5
}
