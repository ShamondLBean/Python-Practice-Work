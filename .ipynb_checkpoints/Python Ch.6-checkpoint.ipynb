{
 "cells": [
  {
   "cell_type": "code",
   "execution_count": 4,
   "id": "eb326fb9",
   "metadata": {},
   "outputs": [],
   "source": [
    "#I will be starting with Algorithm Workbench Q.1\n",
    "#I will start by creating the main function\n",
    "def main():\n",
    "    #Next I will use outfile to open the file\n",
    "    outfile = open('my_name.txt', 'w')\n",
    "    #Next I will write my name in the file\n",
    "    outfile.write('Shamond Bean')\n",
    "    #Next I will close the file\n",
    "    outfile.close()\n",
    "#Last I will call the main function again\n",
    "if __name__ == '__main__':\n",
    "    main()\n"
   ]
  },
  {
   "cell_type": "code",
   "execution_count": null,
   "id": "03e73506",
   "metadata": {},
   "outputs": [],
   "source": [
    "#Next I willl be doing Algorithm Workbench Q.2\n",
    "#I will first start by calling the main function\n",
    "def main():\n",
    "    #Next I will open the file using the with function\n"
   ]
  }
 ],
 "metadata": {
  "kernelspec": {
   "display_name": "Python 3 (ipykernel)",
   "language": "python",
   "name": "python3"
  },
  "language_info": {
   "codemirror_mode": {
    "name": "ipython",
    "version": 3
   },
   "file_extension": ".py",
   "mimetype": "text/x-python",
   "name": "python",
   "nbconvert_exporter": "python",
   "pygments_lexer": "ipython3",
   "version": "3.11.5"
  }
 },
 "nbformat": 4,
 "nbformat_minor": 5
}
