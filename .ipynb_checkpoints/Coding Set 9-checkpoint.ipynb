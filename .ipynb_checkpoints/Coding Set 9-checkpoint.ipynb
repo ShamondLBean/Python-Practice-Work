{
 "cells": [
  {
   "cell_type": "code",
   "execution_count": 5,
   "id": "2f7b25f4",
   "metadata": {},
   "outputs": [
    {
     "name": "stdout",
     "output_type": "stream",
     "text": [
      "What is the capital of Wyoming\n",
      "What is the capital? Cheyenne\n",
      "Correct!\n",
      "\n",
      "Would you like to do more? [y/n]: y\n",
      "What is the capital of Wisconsin\n",
      "What is the capital? Madison\n",
      "Correct!\n",
      "\n",
      "Would you like to do more? [y/n]: y\n",
      "What is the capital of West Virginia\n",
      "What is the capital? Charlestonn\n",
      "Incorrect. The capital of West Virginia is Charleston .\n",
      "\n",
      "Would you like to do more? [y/n]: y\n",
      "What is the capital of Washington\n",
      "What is the capital? Olympia\n",
      "Correct!\n",
      "\n",
      "Would you like to do more? [y/n]: y\n",
      "What is the capital of Virginia\n",
      "What is the capital? Richmond\n",
      "Correct!\n",
      "\n",
      "Would you like to do more? [y/n]: n\n",
      "You got 4 Correct, and you got 1 Wrong\n"
     ]
    }
   ],
   "source": [
    "#Programming exercise number 2 - capital quiz\n",
    "#I will start by calling the main function\n",
    "def main():\n",
    "#Next I will create a dictionary for the states and their capitals\n",
    "    state_capital = {'Alabama' : 'Montgomery', 'Alaska' : 'Juneau', 'Arizona' : 'Phoenix', 'Arkansas' : 'Little Rock',\n",
    "                    'California' : 'Sacremento', 'Colorado' : 'Denver', 'Connecticut' : 'Hartford', 'Delaware' : 'Dover', \n",
    "                    'Florida' : 'Tallahassee', 'Georiga' : 'Atlanta', 'Hawaii' : 'Honolulu', 'Idaho' : 'Boise',\n",
    "                    'Illinois' : 'Springfield', 'Indiana' : 'Indianapolis', 'Iowa' : 'Des Moines', 'Kansas' : 'Topeka', \n",
    "                    'Kentucky' : 'Frankfurt', 'Louisina' : 'Baton Rouge', 'Maine' : 'Augusta', 'Maryland' : 'Annapolis', \n",
    "                    'Massachusettes' : 'Boston', 'Michigan' : 'Lansing', 'Minnesota' : 'Saint Paul', 'Mississippi' : 'Jackson', \n",
    "                    'Missouri' : 'Jefferson City', 'Montanta' : 'Helena', 'Nebraska' : 'Lincoln', 'Nevada' : 'Carson City', \n",
    "                    'New Hampshire' : 'Concord', 'New Jersey' : 'Trenton', 'New Mexico' : 'Santa Fe', 'New York' : 'Albany', \n",
    "                    'North Carolina' : 'Raleigh', 'North Dakota' : 'Bismark', 'Ohio' : 'Columbus', 'Oklahoma' : \n",
    "                    'Oklahoma City', 'Oregon' : 'Salem', 'Pennsylvania' : 'Harrisburg', 'Rhode Island' : 'Providence', \n",
    "                    'South Carolina' : 'Columbia', 'South Dakota' : 'Pierre', 'Tennessee' : 'Nashville', 'Texas' : 'Austin',\n",
    "                    'Utah' : 'Salt Lake City', 'Vermont' : 'Montpelier', 'Virginia' : 'Richmond', 'Washington' : 'Olympia', \n",
    "                    'West Virginia' : 'Charleston', 'Wisconsin' : 'Madison', 'Wyoming' : 'Cheyenne'}\n",
    "#Next I will create variables to count the wrong and write answers\n",
    "    count_right = 0\n",
    "    count_wrong = 0\n",
    "#Next I will use again to control the loop\n",
    "    again = 'y'\n",
    "#Next I will use a while loop for the program\n",
    "    while again.lower() == 'y':\n",
    "        state, capital = state_capital.popitem()\n",
    "#Next I will create the questions for the test\n",
    "        print('What is the capital of', state)\n",
    "        answer = input('What is the capital? ')\n",
    "#Next I will use the if else statements to count if an answer is right or wrong\n",
    "        if answer.lower() == capital.lower():\n",
    "            print('Correct!')\n",
    "            count_right += 1\n",
    "#Next I will use the else half of the loop for wrong answers\n",
    "        else:\n",
    "            print('Incorrect. The capital of', state, 'is', capital, '.')\n",
    "            count_wrong += 1\n",
    "        print()\n",
    "#Next I will use again to see if they'd like to take the test again\n",
    "        again = input('Would you like to do more? [y/n]: ')\n",
    "#Next I will display how many are right and wrong\n",
    "    print('You got', count_right, 'Correct, and you got', count_wrong, 'Wrong')\n",
    "#Lastly I will call the main function again\n",
    "main()"
   ]
  },
  {
   "cell_type": "code",
   "execution_count": null,
   "id": "730f387c",
   "metadata": {},
   "outputs": [],
   "source": []
  }
 ],
 "metadata": {
  "kernelspec": {
   "display_name": "Python 3 (ipykernel)",
   "language": "python",
   "name": "python3"
  },
  "language_info": {
   "codemirror_mode": {
    "name": "ipython",
    "version": 3
   },
   "file_extension": ".py",
   "mimetype": "text/x-python",
   "name": "python",
   "nbconvert_exporter": "python",
   "pygments_lexer": "ipython3",
   "version": "3.11.5"
  }
 },
 "nbformat": 4,
 "nbformat_minor": 5
}
