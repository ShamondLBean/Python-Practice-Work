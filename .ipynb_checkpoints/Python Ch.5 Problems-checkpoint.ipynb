{
 "cells": [
  {
   "cell_type": "code",
   "execution_count": 3,
   "id": "9ecc4c0f",
   "metadata": {},
   "outputs": [],
   "source": [
    "#I will be starting with algorithm workbench question 1\n",
    "#I am tasked with writing a function named times ten, it should accept an argument and display the product of it's argument x10\n",
    "#I will begin by creating a parameter variable\n",
    "def times_ten(number):\n",
    "    #Next I will pass the argument for the parameter\n",
    "    product = number * 10\n",
    "    #Last I will print the result\n",
    "    print(product)\n",
    "    \n"
   ]
  },
  {
   "cell_type": "code",
   "execution_count": 4,
   "id": "11832fad",
   "metadata": {},
   "outputs": [],
   "source": [
    "#I will be doing algoritm workbench question 3 next\n",
    "#Question 3 asks what values would be assigned to a, b, and c.\n",
    "#I will display the problem to clear up any confusion.\n",
    "def my_function(a, b, c):\n",
    "    my_function(3, 2, 1)\n",
    "#3 will be passed to a, 2 will be passed to b, and 1 will be passed c. "
   ]
  },
  {
   "cell_type": "code",
   "execution_count": 6,
   "id": "fb192776",
   "metadata": {},
   "outputs": [],
   "source": [
    "#Next I will be doing programming excercise 1.\n",
    "#In question one I am asked to write a program that the user can enter a distance in kilometers and use a function to convert km\n",
    "#I will start by creating the main parameter \n",
    "def main():\n",
    "    #Next I will create the input for the user to enter the distance.\n",
    "    distance_km = float(input('Please enter a distance in kilometers: '))\n",
    "    #Next I will create the function to convert km.\n",
    "    kilo_converter(distance_km)"
   ]
  },
  {
   "cell_type": "code",
   "execution_count": 8,
   "id": "f4c9c4d6",
   "metadata": {},
   "outputs": [],
   "source": [
    "#Next I will create a parameter variable for the kilo converter.\n",
    "def kilo_converter(distance):\n",
    "    #Next I will pass the argument for the converter\n",
    "    distance_miles = distance * 0.6214\n",
    "    #Next I will create the print function.\n",
    "    print(\"{distance}Kilometers converts to {distance_miles}Miles.\")"
   ]
  },
  {
   "cell_type": "code",
   "execution_count": null,
   "id": "78346ee9",
   "metadata": {},
   "outputs": [],
   "source": [
    "#Last I will call on the main function to run the program.\n",
    "main()"
   ]
  },
  {
   "cell_type": "code",
   "execution_count": null,
   "id": "186e7a7e",
   "metadata": {},
   "outputs": [],
   "source": []
  }
 ],
 "metadata": {
  "kernelspec": {
   "display_name": "Python 3 (ipykernel)",
   "language": "python",
   "name": "python3"
  },
  "language_info": {
   "codemirror_mode": {
    "name": "ipython",
    "version": 3
   },
   "file_extension": ".py",
   "mimetype": "text/x-python",
   "name": "python",
   "nbconvert_exporter": "python",
   "pygments_lexer": "ipython3",
   "version": "3.11.5"
  }
 },
 "nbformat": 4,
 "nbformat_minor": 5
}
