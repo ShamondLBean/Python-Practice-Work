{
 "cells": [
  {
   "cell_type": "code",
   "execution_count": 3,
   "id": "afd1ccf8",
   "metadata": {},
   "outputs": [],
   "source": [
    "#I will be doing the exercises 1,5,15,17, and algorithm workbench 4 and 5."
   ]
  },
  {
   "cell_type": "code",
   "execution_count": 1,
   "id": "a5316869",
   "metadata": {},
   "outputs": [],
   "source": [
    "#Exercise 1"
   ]
  },
  {
   "cell_type": "code",
   "execution_count": 3,
   "id": "b384c6b3",
   "metadata": {},
   "outputs": [],
   "source": [
    "#I am tasked with writing a program that asks the user for the day of the week. \n",
    "#I will first start by assigning the days number variables"
   ]
  },
  {
   "cell_type": "code",
   "execution_count": 6,
   "id": "7a2c2092",
   "metadata": {},
   "outputs": [],
   "source": [
    "monday = 1"
   ]
  },
  {
   "cell_type": "code",
   "execution_count": 31,
   "id": "b1442c68",
   "metadata": {},
   "outputs": [],
   "source": [
    "tuesday = 2"
   ]
  },
  {
   "cell_type": "code",
   "execution_count": 27,
   "id": "d65d982b",
   "metadata": {},
   "outputs": [],
   "source": [
    "wednesday = 3"
   ]
  },
  {
   "cell_type": "code",
   "execution_count": 28,
   "id": "2ce6f800",
   "metadata": {},
   "outputs": [],
   "source": [
    "thursday = 4"
   ]
  },
  {
   "cell_type": "code",
   "execution_count": 32,
   "id": "c8c95e30",
   "metadata": {},
   "outputs": [],
   "source": [
    "friday = 5"
   ]
  },
  {
   "cell_type": "code",
   "execution_count": 33,
   "id": "c9428356",
   "metadata": {},
   "outputs": [],
   "source": [
    "saturday = 6"
   ]
  },
  {
   "cell_type": "code",
   "execution_count": 34,
   "id": "5e9b2a44",
   "metadata": {},
   "outputs": [],
   "source": [
    "sunday = 7"
   ]
  },
  {
   "cell_type": "code",
   "execution_count": 8,
   "id": "359c7057",
   "metadata": {},
   "outputs": [
    {
     "ename": "NameError",
     "evalue": "name 'Monday' is not defined",
     "output_type": "error",
     "traceback": [
      "\u001b[1;31m---------------------------------------------------------------------------\u001b[0m",
      "\u001b[1;31mNameError\u001b[0m                                 Traceback (most recent call last)",
      "Cell \u001b[1;32mIn[8], line 1\u001b[0m\n\u001b[1;32m----> 1\u001b[0m \u001b[38;5;28;01mif\u001b[39;00m Monday \u001b[38;5;241m<\u001b[39m\u001b[38;5;241m=\u001b[39m \u001b[38;5;241m1\u001b[39m \u001b[38;5;129;01mand\u001b[39;00m Sunday \u001b[38;5;241m>\u001b[39m\u001b[38;5;241m=\u001b[39m \u001b[38;5;241m7\u001b[39m:\n\u001b[0;32m      2\u001b[0m     \u001b[38;5;28mprint\u001b[39m(\u001b[38;5;124m'\u001b[39m\u001b[38;5;124mThe value is in the acceptable range\u001b[39m\u001b[38;5;124m'\u001b[39m)\n",
      "\u001b[1;31mNameError\u001b[0m: name 'Monday' is not defined"
     ]
    }
   ],
   "source": [
    "if monday <= 1 and sunday >= 7:\n",
    "    print('The value is in the acceptable range')"
   ]
  },
  {
   "cell_type": "code",
   "execution_count": 7,
   "id": "74e16f06",
   "metadata": {},
   "outputs": [
    {
     "name": "stdout",
     "output_type": "stream",
     "text": [
      "1\n"
     ]
    }
   ],
   "source": [
    "print(monday)"
   ]
  },
  {
   "cell_type": "code",
   "execution_count": null,
   "id": "421d26a3",
   "metadata": {},
   "outputs": [],
   "source": []
  }
 ],
 "metadata": {
  "kernelspec": {
   "display_name": "Python 3 (ipykernel)",
   "language": "python",
   "name": "python3"
  },
  "language_info": {
   "codemirror_mode": {
    "name": "ipython",
    "version": 3
   },
   "file_extension": ".py",
   "mimetype": "text/x-python",
   "name": "python",
   "nbconvert_exporter": "python",
   "pygments_lexer": "ipython3",
   "version": "3.11.5"
  }
 },
 "nbformat": 4,
 "nbformat_minor": 5
}
