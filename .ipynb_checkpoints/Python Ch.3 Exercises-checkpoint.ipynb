{
 "cells": [
  {
   "cell_type": "code",
   "execution_count": 3,
   "id": "afd1ccf8",
   "metadata": {},
   "outputs": [],
   "source": [
    "#I will be doing the exercises 1,5,15,17, and algorithm workbench 4 and 5."
   ]
  },
  {
   "cell_type": "code",
   "execution_count": 1,
   "id": "a5316869",
   "metadata": {},
   "outputs": [],
   "source": [
    "#Exercise 1"
   ]
  },
  {
   "cell_type": "code",
   "execution_count": 3,
   "id": "b384c6b3",
   "metadata": {},
   "outputs": [],
   "source": [
    "#I am tasked with writing a program that asks the user for the day of the week. \n",
    "#I will first start by assigning the days number variables"
   ]
  },
  {
   "cell_type": "code",
   "execution_count": 6,
   "id": "7a2c2092",
   "metadata": {},
   "outputs": [],
   "source": [
    "monday = 1"
   ]
  },
  {
   "cell_type": "code",
   "execution_count": 17,
   "id": "b1442c68",
   "metadata": {},
   "outputs": [],
   "source": [
    "tuesday = 2"
   ]
  },
  {
   "cell_type": "code",
   "execution_count": 18,
   "id": "d65d982b",
   "metadata": {},
   "outputs": [],
   "source": [
    "wednesday = 3"
   ]
  },
  {
   "cell_type": "code",
   "execution_count": 19,
   "id": "2ce6f800",
   "metadata": {},
   "outputs": [],
   "source": [
    "thursday = 4"
   ]
  },
  {
   "cell_type": "code",
   "execution_count": 20,
   "id": "c8c95e30",
   "metadata": {},
   "outputs": [],
   "source": [
    "friday = 5"
   ]
  },
  {
   "cell_type": "code",
   "execution_count": 21,
   "id": "c9428356",
   "metadata": {},
   "outputs": [],
   "source": [
    "saturday = 6"
   ]
  },
  {
   "cell_type": "code",
   "execution_count": 22,
   "id": "5e9b2a44",
   "metadata": {},
   "outputs": [],
   "source": [
    "sunday = 7"
   ]
  },
  {
   "cell_type": "code",
   "execution_count": 26,
   "id": "359c7057",
   "metadata": {},
   "outputs": [
    {
     "name": "stdout",
     "output_type": "stream",
     "text": [
      "The value is in the acceptable range\n"
     ]
    }
   ],
   "source": [
    "#First I will create the acceptable range for the input.\n",
    "if monday <= 1 and sunday >= 7:\n",
    "    print('The value is in the acceptable range')"
   ]
  },
  {
   "cell_type": "code",
   "execution_count": 24,
   "id": "74e16f06",
   "metadata": {},
   "outputs": [
    {
     "name": "stdout",
     "output_type": "stream",
     "text": [
      "2\n"
     ]
    }
   ],
   "source": [
    "print(tuesday)"
   ]
  },
  {
   "cell_type": "code",
   "execution_count": null,
   "id": "675fe403",
   "metadata": {},
   "outputs": [],
   "source": []
  }
 ],
 "metadata": {
  "kernelspec": {
   "display_name": "Python 3 (ipykernel)",
   "language": "python",
   "name": "python3"
  },
  "language_info": {
   "codemirror_mode": {
    "name": "ipython",
    "version": 3
   },
   "file_extension": ".py",
   "mimetype": "text/x-python",
   "name": "python",
   "nbconvert_exporter": "python",
   "pygments_lexer": "ipython3",
   "version": "3.11.5"
  }
 },
 "nbformat": 4,
 "nbformat_minor": 5
}
