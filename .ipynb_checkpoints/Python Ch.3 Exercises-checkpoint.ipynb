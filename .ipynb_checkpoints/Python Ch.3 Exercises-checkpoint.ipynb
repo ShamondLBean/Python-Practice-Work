{
 "cells": [
  {
   "cell_type": "code",
   "execution_count": 3,
   "id": "afd1ccf8",
   "metadata": {},
   "outputs": [],
   "source": [
    "#I will be doing the exercises 1,5,15,17, and algorithm workbench 4 and 5."
   ]
  },
  {
   "cell_type": "code",
   "execution_count": 1,
   "id": "a5316869",
   "metadata": {},
   "outputs": [],
   "source": [
    "#Exercise 1"
   ]
  },
  {
   "cell_type": "code",
   "execution_count": 3,
   "id": "c612dbad",
   "metadata": {},
   "outputs": [],
   "source": [
    "#I am tasked with writing a program that asks the user for the day of the week. \n",
    "#I will first start by assigning the days number variables"
   ]
  },
  {
   "cell_type": "code",
   "execution_count": 29,
   "id": "24f97d4e",
   "metadata": {},
   "outputs": [],
   "source": [
    "Monday = '1'"
   ]
  },
  {
   "cell_type": "code",
   "execution_count": 31,
   "id": "5f52d7b7",
   "metadata": {},
   "outputs": [],
   "source": [
    "Tuesday = '2'"
   ]
  },
  {
   "cell_type": "code",
   "execution_count": 27,
   "id": "0c020fe1",
   "metadata": {},
   "outputs": [],
   "source": [
    "Wednesday = '3'"
   ]
  },
  {
   "cell_type": "code",
   "execution_count": 28,
   "id": "831a4875",
   "metadata": {},
   "outputs": [],
   "source": [
    "Thursday = '4'"
   ]
  },
  {
   "cell_type": "code",
   "execution_count": 32,
   "id": "b4a5d799",
   "metadata": {},
   "outputs": [],
   "source": [
    "Friday = '5'"
   ]
  },
  {
   "cell_type": "code",
   "execution_count": 33,
   "id": "245372d6",
   "metadata": {},
   "outputs": [],
   "source": [
    "Saturday = '6'"
   ]
  },
  {
   "cell_type": "code",
   "execution_count": null,
   "id": "fdcb5c37",
   "metadata": {},
   "outputs": [],
   "source": [
    "Sunday = '7'"
   ]
  }
 ],
 "metadata": {
  "kernelspec": {
   "display_name": "Python 3 (ipykernel)",
   "language": "python",
   "name": "python3"
  },
  "language_info": {
   "codemirror_mode": {
    "name": "ipython",
    "version": 3
   },
   "file_extension": ".py",
   "mimetype": "text/x-python",
   "name": "python",
   "nbconvert_exporter": "python",
   "pygments_lexer": "ipython3",
   "version": "3.11.5"
  }
 },
 "nbformat": 4,
 "nbformat_minor": 5
}
