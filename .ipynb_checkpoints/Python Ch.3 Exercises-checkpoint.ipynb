{
 "cells": [
  {
   "cell_type": "code",
   "execution_count": 3,
   "id": "afd1ccf8",
   "metadata": {},
   "outputs": [],
   "source": [
    "#I will be doing the exercises 1,5,15,17, and algorithm workbench 4 and 5."
   ]
  },
  {
   "cell_type": "code",
   "execution_count": 1,
   "id": "a5316869",
   "metadata": {},
   "outputs": [],
   "source": [
    "#Exercise 1"
   ]
  },
  {
   "cell_type": "code",
   "execution_count": 3,
   "id": "30bcf395",
   "metadata": {},
   "outputs": [],
   "source": [
    "#I am tasked with writing a program that asks the user for the day of the week. \n",
    "#I will first start by assigning the days number variables"
   ]
  },
  {
   "cell_type": "code",
   "execution_count": 22,
   "id": "828c4f11",
   "metadata": {},
   "outputs": [],
   "source": [
    "day1 = 'Monday'\n",
    "day2 = 'Tuesday'"
   ]
  },
  {
   "cell_type": "code",
   "execution_count": 24,
   "id": "1e689e84",
   "metadata": {},
   "outputs": [],
   "source": [
    "day3 = 'Wednesday'\n",
    "day4 = 'Thursday'"
   ]
  },
  {
   "cell_type": "code",
   "execution_count": 27,
   "id": "7139f56a",
   "metadata": {},
   "outputs": [],
   "source": [
    "day5 = 'Friday'\n",
    "day6 = 'Saturday'"
   ]
  },
  {
   "cell_type": "code",
   "execution_count": 28,
   "id": "92c824de",
   "metadata": {},
   "outputs": [],
   "source": [
    "day7 = 'Sunday'"
   ]
  },
  {
   "cell_type": "code",
   "execution_count": null,
   "id": "44cde3cf",
   "metadata": {},
   "outputs": [],
   "source": []
  }
 ],
 "metadata": {
  "kernelspec": {
   "display_name": "Python 3 (ipykernel)",
   "language": "python",
   "name": "python3"
  },
  "language_info": {
   "codemirror_mode": {
    "name": "ipython",
    "version": 3
   },
   "file_extension": ".py",
   "mimetype": "text/x-python",
   "name": "python",
   "nbconvert_exporter": "python",
   "pygments_lexer": "ipython3",
   "version": "3.11.5"
  }
 },
 "nbformat": 4,
 "nbformat_minor": 5
}
