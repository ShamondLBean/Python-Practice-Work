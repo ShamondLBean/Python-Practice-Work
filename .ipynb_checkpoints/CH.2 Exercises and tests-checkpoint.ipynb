{
 "cells": [
  {
   "cell_type": "code",
   "execution_count": 1,
   "id": "bc31c828",
   "metadata": {},
   "outputs": [],
   "source": [
    "width = 20"
   ]
  },
  {
   "cell_type": "code",
   "execution_count": 2,
   "id": "1de3a70b",
   "metadata": {},
   "outputs": [],
   "source": [
    "length = 30"
   ]
  },
  {
   "cell_type": "code",
   "execution_count": 3,
   "id": "11108585",
   "metadata": {},
   "outputs": [
    {
     "name": "stdout",
     "output_type": "stream",
     "text": [
      "20\n"
     ]
    }
   ],
   "source": [
    "print(width)"
   ]
  },
  {
   "cell_type": "code",
   "execution_count": 4,
   "id": "95812be9",
   "metadata": {},
   "outputs": [
    {
     "name": "stdout",
     "output_type": "stream",
     "text": [
      "30\n"
     ]
    }
   ],
   "source": [
    "print(length)"
   ]
  },
  {
   "cell_type": "code",
   "execution_count": 5,
   "id": "415840ed",
   "metadata": {},
   "outputs": [],
   "source": [
    "age = 67"
   ]
  },
  {
   "cell_type": "code",
   "execution_count": 6,
   "id": "23d7b89c",
   "metadata": {},
   "outputs": [
    {
     "name": "stdout",
     "output_type": "stream",
     "text": [
      "67\n"
     ]
    }
   ],
   "source": [
    "print(age)"
   ]
  },
  {
   "cell_type": "code",
   "execution_count": 7,
   "id": "8f024745",
   "metadata": {},
   "outputs": [],
   "source": [
    "#This is the apartment number"
   ]
  },
  {
   "cell_type": "code",
   "execution_count": 8,
   "id": "2384726c",
   "metadata": {},
   "outputs": [],
   "source": [
    "apartment = 301"
   ]
  },
  {
   "cell_type": "code",
   "execution_count": 9,
   "id": "8e55d361",
   "metadata": {},
   "outputs": [
    {
     "name": "stdout",
     "output_type": "stream",
     "text": [
      "I'm staying in apartment number\n"
     ]
    }
   ],
   "source": [
    "print(\"I'm staying in apartment number\")"
   ]
  },
  {
   "cell_type": "code",
   "execution_count": 10,
   "id": "f433f2cb",
   "metadata": {},
   "outputs": [
    {
     "name": "stdout",
     "output_type": "stream",
     "text": [
      "301\n"
     ]
    }
   ],
   "source": [
    "print(apartment)"
   ]
  },
  {
   "cell_type": "code",
   "execution_count": 11,
   "id": "d8b8a5d9",
   "metadata": {},
   "outputs": [],
   "source": [
    "## Chapter 2 Algorithm Workbench Number 6"
   ]
  },
  {
   "cell_type": "code",
   "execution_count": 12,
   "id": "3d1a7898",
   "metadata": {},
   "outputs": [],
   "source": [
    "#Display the name for the student.\n",
    "#I will use a input function to get this info from student."
   ]
  },
  {
   "cell_type": "code",
   "execution_count": null,
   "id": "9d399bb4",
   "metadata": {},
   "outputs": [],
   "source": [
    "name = input('What is your name?: ')"
   ]
  },
  {
   "cell_type": "code",
   "execution_count": null,
   "id": "9e24980a",
   "metadata": {},
   "outputs": [],
   "source": [
    "#Next display the students address.\n",
    "#I will use the input function to get this info."
   ]
  },
  {
   "cell_type": "code",
   "execution_count": null,
   "id": "1c8bd733",
   "metadata": {},
   "outputs": [],
   "source": [
    "address = input('What is your address, city, state, and zip code?: ')"
   ]
  },
  {
   "cell_type": "code",
   "execution_count": null,
   "id": "813a8c8d",
   "metadata": {},
   "outputs": [],
   "source": [
    "#Next display the students telephone number"
   ]
  },
  {
   "cell_type": "code",
   "execution_count": null,
   "id": "b4b80c90",
   "metadata": {},
   "outputs": [],
   "source": [
    "phone_number = input('What is your telephone number?: ')"
   ]
  },
  {
   "cell_type": "code",
   "execution_count": null,
   "id": "ecdb221e",
   "metadata": {},
   "outputs": [],
   "source": [
    "#Next display the students college major"
   ]
  },
  {
   "cell_type": "code",
   "execution_count": null,
   "id": "d6fd4105",
   "metadata": {},
   "outputs": [],
   "source": [
    "major = input('What is your college major?: ')"
   ]
  },
  {
   "cell_type": "code",
   "execution_count": null,
   "id": "80be3d9e",
   "metadata": {},
   "outputs": [],
   "source": []
  }
 ],
 "metadata": {
  "kernelspec": {
   "display_name": "Python 3 (ipykernel)",
   "language": "python",
   "name": "python3"
  },
  "language_info": {
   "codemirror_mode": {
    "name": "ipython",
    "version": 3
   },
   "file_extension": ".py",
   "mimetype": "text/x-python",
   "name": "python",
   "nbconvert_exporter": "python",
   "pygments_lexer": "ipython3",
   "version": "3.11.5"
  }
 },
 "nbformat": 4,
 "nbformat_minor": 5
}
