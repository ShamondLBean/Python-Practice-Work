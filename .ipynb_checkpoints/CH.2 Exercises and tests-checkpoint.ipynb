{
 "cells": [
  {
   "cell_type": "code",
   "execution_count": 1,
   "id": "bc31c828",
   "metadata": {},
   "outputs": [],
   "source": [
    "width = 20"
   ]
  },
  {
   "cell_type": "code",
   "execution_count": 2,
   "id": "1de3a70b",
   "metadata": {},
   "outputs": [],
   "source": [
    "length = 30"
   ]
  },
  {
   "cell_type": "code",
   "execution_count": 3,
   "id": "11108585",
   "metadata": {},
   "outputs": [
    {
     "name": "stdout",
     "output_type": "stream",
     "text": [
      "20\n"
     ]
    }
   ],
   "source": [
    "print(width)"
   ]
  },
  {
   "cell_type": "code",
   "execution_count": 4,
   "id": "95812be9",
   "metadata": {},
   "outputs": [
    {
     "name": "stdout",
     "output_type": "stream",
     "text": [
      "30\n"
     ]
    }
   ],
   "source": [
    "print(length)"
   ]
  },
  {
   "cell_type": "code",
   "execution_count": 5,
   "id": "415840ed",
   "metadata": {},
   "outputs": [],
   "source": [
    "age = 67"
   ]
  },
  {
   "cell_type": "code",
   "execution_count": 6,
   "id": "23d7b89c",
   "metadata": {},
   "outputs": [
    {
     "name": "stdout",
     "output_type": "stream",
     "text": [
      "67\n"
     ]
    }
   ],
   "source": [
    "print(age)"
   ]
  },
  {
   "cell_type": "code",
   "execution_count": 9,
   "id": "8f024745",
   "metadata": {},
   "outputs": [],
   "source": [
    "#This is the apartment number"
   ]
  },
  {
   "cell_type": "code",
   "execution_count": 11,
   "id": "2384726c",
   "metadata": {},
   "outputs": [],
   "source": [
    "apartment = 301"
   ]
  },
  {
   "cell_type": "code",
   "execution_count": 12,
   "id": "8e55d361",
   "metadata": {},
   "outputs": [
    {
     "name": "stdout",
     "output_type": "stream",
     "text": [
      "I'm staying in apartment number\n"
     ]
    }
   ],
   "source": [
    "print(\"I'm staying in apartment number\")"
   ]
  },
  {
   "cell_type": "code",
   "execution_count": 13,
   "id": "f433f2cb",
   "metadata": {},
   "outputs": [
    {
     "name": "stdout",
     "output_type": "stream",
     "text": [
      "301\n"
     ]
    }
   ],
   "source": [
    "print(apartment)"
   ]
  },
  {
   "cell_type": "code",
   "execution_count": 4,
   "id": "d8b8a5d9",
   "metadata": {},
   "outputs": [],
   "source": [
    "## Chapter 2 Algorithm Workbench Number 6"
   ]
  },
  {
   "cell_type": "code",
   "execution_count": null,
   "id": "7bb45e73",
   "metadata": {},
   "outputs": [],
   "source": [
    "#Display the name for the student.\n",
    "#I will use a input function to get this info from student."
   ]
  },
  {
   "cell_type": "code",
   "execution_count": null,
   "id": "8afcb391",
   "metadata": {},
   "outputs": [],
   "source": [
    "name = input('What is your name? ')"
   ]
  },
  {
   "cell_type": "code",
   "execution_count": null,
   "id": "88394a2d",
   "metadata": {},
   "outputs": [],
   "source": []
  }
 ],
 "metadata": {
  "kernelspec": {
   "display_name": "Python 3 (ipykernel)",
   "language": "python",
   "name": "python3"
  },
  "language_info": {
   "codemirror_mode": {
    "name": "ipython",
    "version": 3
   },
   "file_extension": ".py",
   "mimetype": "text/x-python",
   "name": "python",
   "nbconvert_exporter": "python",
   "pygments_lexer": "ipython3",
   "version": "3.11.5"
  }
 },
 "nbformat": 4,
 "nbformat_minor": 5
}
